{
 "cells": [
  {
   "cell_type": "markdown",
   "metadata": {
    "id": "H9wADwK78DCz"
   },
   "source": [
    "# Proyek Analisis Data: Bike Sharing Dataset\n",
    "- **Nama:** Firman Aji\n",
    "- **Email:** aji240202@gmail.com\n",
    "- **ID Dicoding:** firman_aji_OJZa"
   ]
  },
  {
   "cell_type": "markdown",
   "metadata": {
    "id": "eE0raob58DC0"
   },
   "source": [
    "# Menentukan Pertanyaan Bisnis"
   ]
  },
  {
   "cell_type": "markdown",
   "metadata": {
    "id": "GmQeQ5YF8DC0"
   },
   "source": [
    "- Bagaimana perkembangan dari jumlah pengguna tiap tahun, apakah ada peningkatan atau penurunan?\n",
    "- Faktor apa yang mempengaruhi jumlah pengguna?\n"
   ]
  },
  {
   "cell_type": "markdown",
   "metadata": {
    "id": "H-z4QGlO8DC1"
   },
   "source": [
    "# Import Semua Packages/Library yang Digunakan"
   ]
  },
  {
   "cell_type": "code",
   "execution_count": 1,
   "metadata": {
    "colab": {
     "base_uri": "https://localhost:8080/"
    },
    "id": "FVYwaObI8DC1",
    "outputId": "12f9112f-a54a-4492-90f7-ed14c7fb9644"
   },
   "outputs": [
    {
     "name": "stdout",
     "output_type": "stream",
     "text": [
      "python ver 3.11.2 (tags/v3.11.2:878ead1, Feb  7 2023, 16:38:35) [MSC v.1934 64 bit (AMD64)]\n",
      "numpy ver 1.26.1\n",
      "panda ver 2.1.3\n",
      "matplotlib ver 3.8.2\n"
     ]
    }
   ],
   "source": [
    "import sys\n",
    "import numpy as np\n",
    "import pandas as pd\n",
    "import matplotlib\n",
    "import matplotlib.pyplot as plt\n",
    "\n",
    "print(\"python ver\", sys.version)\n",
    "print(\"numpy ver\", np.__version__)\n",
    "print(\"panda ver\", pd.__version__)\n",
    "print(\"matplotlib ver\", matplotlib.__version__)"
   ]
  },
  {
   "cell_type": "markdown",
   "metadata": {
    "id": "h_Sh51Xy8DC1"
   },
   "source": [
    "# Data Wrangling"
   ]
  },
  {
   "cell_type": "markdown",
   "metadata": {
    "id": "sXU2GBYu8DC1",
    "jp-MarkdownHeadingCollapsed": true
   },
   "source": [
    "## Gathering Data"
   ]
  },
  {
   "cell_type": "code",
   "execution_count": 2,
   "metadata": {
    "colab": {
     "base_uri": "https://localhost:8080/",
     "height": 0
    },
    "id": "zjCBk1BI8DC1",
    "outputId": "b6847d2d-3dee-48f6-e1b3-8614b2414144"
   },
   "outputs": [
    {
     "data": {
      "text/html": [
       "<div>\n",
       "<style scoped>\n",
       "    .dataframe tbody tr th:only-of-type {\n",
       "        vertical-align: middle;\n",
       "    }\n",
       "\n",
       "    .dataframe tbody tr th {\n",
       "        vertical-align: top;\n",
       "    }\n",
       "\n",
       "    .dataframe thead th {\n",
       "        text-align: right;\n",
       "    }\n",
       "</style>\n",
       "<table border=\"1\" class=\"dataframe\">\n",
       "  <thead>\n",
       "    <tr style=\"text-align: right;\">\n",
       "      <th></th>\n",
       "      <th>instant</th>\n",
       "      <th>dteday</th>\n",
       "      <th>season</th>\n",
       "      <th>yr</th>\n",
       "      <th>mnth</th>\n",
       "      <th>holiday</th>\n",
       "      <th>weekday</th>\n",
       "      <th>workingday</th>\n",
       "      <th>weathersit</th>\n",
       "      <th>temp</th>\n",
       "      <th>atemp</th>\n",
       "      <th>hum</th>\n",
       "      <th>windspeed</th>\n",
       "      <th>casual</th>\n",
       "      <th>registered</th>\n",
       "      <th>cnt</th>\n",
       "    </tr>\n",
       "  </thead>\n",
       "  <tbody>\n",
       "    <tr>\n",
       "      <th>0</th>\n",
       "      <td>1</td>\n",
       "      <td>2011-01-01</td>\n",
       "      <td>1</td>\n",
       "      <td>0</td>\n",
       "      <td>1</td>\n",
       "      <td>0</td>\n",
       "      <td>6</td>\n",
       "      <td>0</td>\n",
       "      <td>2</td>\n",
       "      <td>0.344167</td>\n",
       "      <td>0.363625</td>\n",
       "      <td>0.805833</td>\n",
       "      <td>0.160446</td>\n",
       "      <td>331</td>\n",
       "      <td>654</td>\n",
       "      <td>985</td>\n",
       "    </tr>\n",
       "    <tr>\n",
       "      <th>1</th>\n",
       "      <td>2</td>\n",
       "      <td>2011-01-02</td>\n",
       "      <td>1</td>\n",
       "      <td>0</td>\n",
       "      <td>1</td>\n",
       "      <td>0</td>\n",
       "      <td>0</td>\n",
       "      <td>0</td>\n",
       "      <td>2</td>\n",
       "      <td>0.363478</td>\n",
       "      <td>0.353739</td>\n",
       "      <td>0.696087</td>\n",
       "      <td>0.248539</td>\n",
       "      <td>131</td>\n",
       "      <td>670</td>\n",
       "      <td>801</td>\n",
       "    </tr>\n",
       "    <tr>\n",
       "      <th>2</th>\n",
       "      <td>3</td>\n",
       "      <td>2011-01-03</td>\n",
       "      <td>1</td>\n",
       "      <td>0</td>\n",
       "      <td>1</td>\n",
       "      <td>0</td>\n",
       "      <td>1</td>\n",
       "      <td>1</td>\n",
       "      <td>1</td>\n",
       "      <td>0.196364</td>\n",
       "      <td>0.189405</td>\n",
       "      <td>0.437273</td>\n",
       "      <td>0.248309</td>\n",
       "      <td>120</td>\n",
       "      <td>1229</td>\n",
       "      <td>1349</td>\n",
       "    </tr>\n",
       "    <tr>\n",
       "      <th>3</th>\n",
       "      <td>4</td>\n",
       "      <td>2011-01-04</td>\n",
       "      <td>1</td>\n",
       "      <td>0</td>\n",
       "      <td>1</td>\n",
       "      <td>0</td>\n",
       "      <td>2</td>\n",
       "      <td>1</td>\n",
       "      <td>1</td>\n",
       "      <td>0.200000</td>\n",
       "      <td>0.212122</td>\n",
       "      <td>0.590435</td>\n",
       "      <td>0.160296</td>\n",
       "      <td>108</td>\n",
       "      <td>1454</td>\n",
       "      <td>1562</td>\n",
       "    </tr>\n",
       "    <tr>\n",
       "      <th>4</th>\n",
       "      <td>5</td>\n",
       "      <td>2011-01-05</td>\n",
       "      <td>1</td>\n",
       "      <td>0</td>\n",
       "      <td>1</td>\n",
       "      <td>0</td>\n",
       "      <td>3</td>\n",
       "      <td>1</td>\n",
       "      <td>1</td>\n",
       "      <td>0.226957</td>\n",
       "      <td>0.229270</td>\n",
       "      <td>0.436957</td>\n",
       "      <td>0.186900</td>\n",
       "      <td>82</td>\n",
       "      <td>1518</td>\n",
       "      <td>1600</td>\n",
       "    </tr>\n",
       "  </tbody>\n",
       "</table>\n",
       "</div>"
      ],
      "text/plain": [
       "   instant      dteday  season  yr  mnth  holiday  weekday  workingday  \\\n",
       "0        1  2011-01-01       1   0     1        0        6           0   \n",
       "1        2  2011-01-02       1   0     1        0        0           0   \n",
       "2        3  2011-01-03       1   0     1        0        1           1   \n",
       "3        4  2011-01-04       1   0     1        0        2           1   \n",
       "4        5  2011-01-05       1   0     1        0        3           1   \n",
       "\n",
       "   weathersit      temp     atemp       hum  windspeed  casual  registered  \\\n",
       "0           2  0.344167  0.363625  0.805833   0.160446     331         654   \n",
       "1           2  0.363478  0.353739  0.696087   0.248539     131         670   \n",
       "2           1  0.196364  0.189405  0.437273   0.248309     120        1229   \n",
       "3           1  0.200000  0.212122  0.590435   0.160296     108        1454   \n",
       "4           1  0.226957  0.229270  0.436957   0.186900      82        1518   \n",
       "\n",
       "    cnt  \n",
       "0   985  \n",
       "1   801  \n",
       "2  1349  \n",
       "3  1562  \n",
       "4  1600  "
      ]
     },
     "execution_count": 2,
     "metadata": {},
     "output_type": "execute_result"
    }
   ],
   "source": [
    "day_df = pd.read_csv('./data/day.csv')\n",
    "day_df.head()"
   ]
  },
  {
   "cell_type": "code",
   "execution_count": 3,
   "metadata": {
    "colab": {
     "base_uri": "https://localhost:8080/",
     "height": 0
    },
    "id": "vvwlo-M7QcPj",
    "outputId": "fd9318f0-e1d7-4f07-cc0d-47ddbf2b166d"
   },
   "outputs": [
    {
     "data": {
      "text/html": [
       "<div>\n",
       "<style scoped>\n",
       "    .dataframe tbody tr th:only-of-type {\n",
       "        vertical-align: middle;\n",
       "    }\n",
       "\n",
       "    .dataframe tbody tr th {\n",
       "        vertical-align: top;\n",
       "    }\n",
       "\n",
       "    .dataframe thead th {\n",
       "        text-align: right;\n",
       "    }\n",
       "</style>\n",
       "<table border=\"1\" class=\"dataframe\">\n",
       "  <thead>\n",
       "    <tr style=\"text-align: right;\">\n",
       "      <th></th>\n",
       "      <th>instant</th>\n",
       "      <th>dteday</th>\n",
       "      <th>season</th>\n",
       "      <th>yr</th>\n",
       "      <th>mnth</th>\n",
       "      <th>hr</th>\n",
       "      <th>holiday</th>\n",
       "      <th>weekday</th>\n",
       "      <th>workingday</th>\n",
       "      <th>weathersit</th>\n",
       "      <th>temp</th>\n",
       "      <th>atemp</th>\n",
       "      <th>hum</th>\n",
       "      <th>windspeed</th>\n",
       "      <th>casual</th>\n",
       "      <th>registered</th>\n",
       "      <th>cnt</th>\n",
       "    </tr>\n",
       "  </thead>\n",
       "  <tbody>\n",
       "    <tr>\n",
       "      <th>0</th>\n",
       "      <td>1</td>\n",
       "      <td>2011-01-01</td>\n",
       "      <td>1</td>\n",
       "      <td>0</td>\n",
       "      <td>1</td>\n",
       "      <td>0</td>\n",
       "      <td>0</td>\n",
       "      <td>6</td>\n",
       "      <td>0</td>\n",
       "      <td>1</td>\n",
       "      <td>0.24</td>\n",
       "      <td>0.2879</td>\n",
       "      <td>0.81</td>\n",
       "      <td>0.0</td>\n",
       "      <td>3</td>\n",
       "      <td>13</td>\n",
       "      <td>16</td>\n",
       "    </tr>\n",
       "    <tr>\n",
       "      <th>1</th>\n",
       "      <td>2</td>\n",
       "      <td>2011-01-01</td>\n",
       "      <td>1</td>\n",
       "      <td>0</td>\n",
       "      <td>1</td>\n",
       "      <td>1</td>\n",
       "      <td>0</td>\n",
       "      <td>6</td>\n",
       "      <td>0</td>\n",
       "      <td>1</td>\n",
       "      <td>0.22</td>\n",
       "      <td>0.2727</td>\n",
       "      <td>0.80</td>\n",
       "      <td>0.0</td>\n",
       "      <td>8</td>\n",
       "      <td>32</td>\n",
       "      <td>40</td>\n",
       "    </tr>\n",
       "    <tr>\n",
       "      <th>2</th>\n",
       "      <td>3</td>\n",
       "      <td>2011-01-01</td>\n",
       "      <td>1</td>\n",
       "      <td>0</td>\n",
       "      <td>1</td>\n",
       "      <td>2</td>\n",
       "      <td>0</td>\n",
       "      <td>6</td>\n",
       "      <td>0</td>\n",
       "      <td>1</td>\n",
       "      <td>0.22</td>\n",
       "      <td>0.2727</td>\n",
       "      <td>0.80</td>\n",
       "      <td>0.0</td>\n",
       "      <td>5</td>\n",
       "      <td>27</td>\n",
       "      <td>32</td>\n",
       "    </tr>\n",
       "    <tr>\n",
       "      <th>3</th>\n",
       "      <td>4</td>\n",
       "      <td>2011-01-01</td>\n",
       "      <td>1</td>\n",
       "      <td>0</td>\n",
       "      <td>1</td>\n",
       "      <td>3</td>\n",
       "      <td>0</td>\n",
       "      <td>6</td>\n",
       "      <td>0</td>\n",
       "      <td>1</td>\n",
       "      <td>0.24</td>\n",
       "      <td>0.2879</td>\n",
       "      <td>0.75</td>\n",
       "      <td>0.0</td>\n",
       "      <td>3</td>\n",
       "      <td>10</td>\n",
       "      <td>13</td>\n",
       "    </tr>\n",
       "    <tr>\n",
       "      <th>4</th>\n",
       "      <td>5</td>\n",
       "      <td>2011-01-01</td>\n",
       "      <td>1</td>\n",
       "      <td>0</td>\n",
       "      <td>1</td>\n",
       "      <td>4</td>\n",
       "      <td>0</td>\n",
       "      <td>6</td>\n",
       "      <td>0</td>\n",
       "      <td>1</td>\n",
       "      <td>0.24</td>\n",
       "      <td>0.2879</td>\n",
       "      <td>0.75</td>\n",
       "      <td>0.0</td>\n",
       "      <td>0</td>\n",
       "      <td>1</td>\n",
       "      <td>1</td>\n",
       "    </tr>\n",
       "  </tbody>\n",
       "</table>\n",
       "</div>"
      ],
      "text/plain": [
       "   instant      dteday  season  yr  mnth  hr  holiday  weekday  workingday  \\\n",
       "0        1  2011-01-01       1   0     1   0        0        6           0   \n",
       "1        2  2011-01-01       1   0     1   1        0        6           0   \n",
       "2        3  2011-01-01       1   0     1   2        0        6           0   \n",
       "3        4  2011-01-01       1   0     1   3        0        6           0   \n",
       "4        5  2011-01-01       1   0     1   4        0        6           0   \n",
       "\n",
       "   weathersit  temp   atemp   hum  windspeed  casual  registered  cnt  \n",
       "0           1  0.24  0.2879  0.81        0.0       3          13   16  \n",
       "1           1  0.22  0.2727  0.80        0.0       8          32   40  \n",
       "2           1  0.22  0.2727  0.80        0.0       5          27   32  \n",
       "3           1  0.24  0.2879  0.75        0.0       3          10   13  \n",
       "4           1  0.24  0.2879  0.75        0.0       0           1    1  "
      ]
     },
     "execution_count": 3,
     "metadata": {},
     "output_type": "execute_result"
    }
   ],
   "source": [
    "hour_df = pd.read_csv('./data/hour.csv')\n",
    "hour_df.head()"
   ]
  },
  {
   "cell_type": "markdown",
   "metadata": {
    "id": "FHSiqaZp8DC1"
   },
   "source": [
    "## Assessing Data"
   ]
  },
  {
   "cell_type": "markdown",
   "metadata": {
    "id": "a06BOHexSJCB",
    "jp-MarkdownHeadingCollapsed": true
   },
   "source": [
    "### Menilai Data hour_df"
   ]
  },
  {
   "cell_type": "code",
   "execution_count": 4,
   "metadata": {
    "colab": {
     "base_uri": "https://localhost:8080/"
    },
    "id": "ax-3tEjc9Cj1",
    "outputId": "5948ceef-18ed-46f0-8a94-f23c16eb9301"
   },
   "outputs": [
    {
     "name": "stdout",
     "output_type": "stream",
     "text": [
      "<class 'pandas.core.frame.DataFrame'>\n",
      "RangeIndex: 17379 entries, 0 to 17378\n",
      "Data columns (total 17 columns):\n",
      " #   Column      Non-Null Count  Dtype  \n",
      "---  ------      --------------  -----  \n",
      " 0   instant     17379 non-null  int64  \n",
      " 1   dteday      17379 non-null  object \n",
      " 2   season      17379 non-null  int64  \n",
      " 3   yr          17379 non-null  int64  \n",
      " 4   mnth        17379 non-null  int64  \n",
      " 5   hr          17379 non-null  int64  \n",
      " 6   holiday     17379 non-null  int64  \n",
      " 7   weekday     17379 non-null  int64  \n",
      " 8   workingday  17379 non-null  int64  \n",
      " 9   weathersit  17379 non-null  int64  \n",
      " 10  temp        17379 non-null  float64\n",
      " 11  atemp       17379 non-null  float64\n",
      " 12  hum         17379 non-null  float64\n",
      " 13  windspeed   17379 non-null  float64\n",
      " 14  casual      17379 non-null  int64  \n",
      " 15  registered  17379 non-null  int64  \n",
      " 16  cnt         17379 non-null  int64  \n",
      "dtypes: float64(4), int64(12), object(1)\n",
      "memory usage: 2.3+ MB\n"
     ]
    }
   ],
   "source": [
    "hour_df.info()"
   ]
  },
  {
   "cell_type": "markdown",
   "metadata": {
    "id": "xOozo9VjUI5Q"
   },
   "source": [
    "Berdasarkan info diatas **terdapat kesalahan/perlu koreksi tipe data** pada kolom :\n",
    "- dteday\n",
    "- season\n",
    "- weathersit\n",
    "- weekday\n",
    "- workingday\n",
    "\n",
    "Lalu untuk **data yang tidak akan digunakan** ada pada kolom :\n",
    "- instant\n",
    "- yr\n",
    "- mnth\n",
    "- holiday\n",
    "- atemp"
   ]
  },
  {
   "cell_type": "code",
   "execution_count": 5,
   "metadata": {
    "colab": {
     "base_uri": "https://localhost:8080/"
    },
    "id": "MPkroFgNXced",
    "outputId": "dc0444b4-93d1-429e-92bb-2593c550fa7b"
   },
   "outputs": [
    {
     "data": {
      "text/plain": [
       "instant       0\n",
       "dteday        0\n",
       "season        0\n",
       "yr            0\n",
       "mnth          0\n",
       "hr            0\n",
       "holiday       0\n",
       "weekday       0\n",
       "workingday    0\n",
       "weathersit    0\n",
       "temp          0\n",
       "atemp         0\n",
       "hum           0\n",
       "windspeed     0\n",
       "casual        0\n",
       "registered    0\n",
       "cnt           0\n",
       "dtype: int64"
      ]
     },
     "execution_count": 5,
     "metadata": {},
     "output_type": "execute_result"
    }
   ],
   "source": [
    "hour_df.isna().sum()"
   ]
  },
  {
   "cell_type": "markdown",
   "metadata": {
    "id": "ZLQFEXlMXh2F"
   },
   "source": [
    "Berdasarkan pengecekan setiap kolom diatas, ternyata **tidak ada data yang kosong(Nan).**"
   ]
  },
  {
   "cell_type": "code",
   "execution_count": 6,
   "metadata": {
    "colab": {
     "base_uri": "https://localhost:8080/"
    },
    "id": "hU54uKo3Xx0z",
    "outputId": "4b270a04-3446-4d2d-ed72-e1f4bb2532b5"
   },
   "outputs": [
    {
     "name": "stdout",
     "output_type": "stream",
     "text": [
      "Jumlah duplikasi data:  0\n"
     ]
    }
   ],
   "source": [
    "print(\"Jumlah duplikasi data: \", hour_df.duplicated().sum())"
   ]
  },
  {
   "cell_type": "code",
   "execution_count": 7,
   "metadata": {
    "colab": {
     "base_uri": "https://localhost:8080/",
     "height": 0
    },
    "id": "cxlD7bjEYkIn",
    "outputId": "40b794d2-d41e-4198-fac0-85aca48ffb4f"
   },
   "outputs": [
    {
     "data": {
      "text/html": [
       "<div>\n",
       "<style scoped>\n",
       "    .dataframe tbody tr th:only-of-type {\n",
       "        vertical-align: middle;\n",
       "    }\n",
       "\n",
       "    .dataframe tbody tr th {\n",
       "        vertical-align: top;\n",
       "    }\n",
       "\n",
       "    .dataframe thead th {\n",
       "        text-align: right;\n",
       "    }\n",
       "</style>\n",
       "<table border=\"1\" class=\"dataframe\">\n",
       "  <thead>\n",
       "    <tr style=\"text-align: right;\">\n",
       "      <th></th>\n",
       "      <th>instant</th>\n",
       "      <th>season</th>\n",
       "      <th>yr</th>\n",
       "      <th>mnth</th>\n",
       "      <th>hr</th>\n",
       "      <th>holiday</th>\n",
       "      <th>weekday</th>\n",
       "      <th>workingday</th>\n",
       "      <th>weathersit</th>\n",
       "      <th>temp</th>\n",
       "      <th>atemp</th>\n",
       "      <th>hum</th>\n",
       "      <th>windspeed</th>\n",
       "      <th>casual</th>\n",
       "      <th>registered</th>\n",
       "      <th>cnt</th>\n",
       "    </tr>\n",
       "  </thead>\n",
       "  <tbody>\n",
       "    <tr>\n",
       "      <th>count</th>\n",
       "      <td>17379.0000</td>\n",
       "      <td>17379.000000</td>\n",
       "      <td>17379.000000</td>\n",
       "      <td>17379.000000</td>\n",
       "      <td>17379.000000</td>\n",
       "      <td>17379.000000</td>\n",
       "      <td>17379.000000</td>\n",
       "      <td>17379.000000</td>\n",
       "      <td>17379.000000</td>\n",
       "      <td>17379.000000</td>\n",
       "      <td>17379.000000</td>\n",
       "      <td>17379.000000</td>\n",
       "      <td>17379.000000</td>\n",
       "      <td>17379.000000</td>\n",
       "      <td>17379.000000</td>\n",
       "      <td>17379.000000</td>\n",
       "    </tr>\n",
       "    <tr>\n",
       "      <th>mean</th>\n",
       "      <td>8690.0000</td>\n",
       "      <td>2.501640</td>\n",
       "      <td>0.502561</td>\n",
       "      <td>6.537775</td>\n",
       "      <td>11.546752</td>\n",
       "      <td>0.028770</td>\n",
       "      <td>3.003683</td>\n",
       "      <td>0.682721</td>\n",
       "      <td>1.425283</td>\n",
       "      <td>0.496987</td>\n",
       "      <td>0.475775</td>\n",
       "      <td>0.627229</td>\n",
       "      <td>0.190098</td>\n",
       "      <td>35.676218</td>\n",
       "      <td>153.786869</td>\n",
       "      <td>189.463088</td>\n",
       "    </tr>\n",
       "    <tr>\n",
       "      <th>std</th>\n",
       "      <td>5017.0295</td>\n",
       "      <td>1.106918</td>\n",
       "      <td>0.500008</td>\n",
       "      <td>3.438776</td>\n",
       "      <td>6.914405</td>\n",
       "      <td>0.167165</td>\n",
       "      <td>2.005771</td>\n",
       "      <td>0.465431</td>\n",
       "      <td>0.639357</td>\n",
       "      <td>0.192556</td>\n",
       "      <td>0.171850</td>\n",
       "      <td>0.192930</td>\n",
       "      <td>0.122340</td>\n",
       "      <td>49.305030</td>\n",
       "      <td>151.357286</td>\n",
       "      <td>181.387599</td>\n",
       "    </tr>\n",
       "    <tr>\n",
       "      <th>min</th>\n",
       "      <td>1.0000</td>\n",
       "      <td>1.000000</td>\n",
       "      <td>0.000000</td>\n",
       "      <td>1.000000</td>\n",
       "      <td>0.000000</td>\n",
       "      <td>0.000000</td>\n",
       "      <td>0.000000</td>\n",
       "      <td>0.000000</td>\n",
       "      <td>1.000000</td>\n",
       "      <td>0.020000</td>\n",
       "      <td>0.000000</td>\n",
       "      <td>0.000000</td>\n",
       "      <td>0.000000</td>\n",
       "      <td>0.000000</td>\n",
       "      <td>0.000000</td>\n",
       "      <td>1.000000</td>\n",
       "    </tr>\n",
       "    <tr>\n",
       "      <th>25%</th>\n",
       "      <td>4345.5000</td>\n",
       "      <td>2.000000</td>\n",
       "      <td>0.000000</td>\n",
       "      <td>4.000000</td>\n",
       "      <td>6.000000</td>\n",
       "      <td>0.000000</td>\n",
       "      <td>1.000000</td>\n",
       "      <td>0.000000</td>\n",
       "      <td>1.000000</td>\n",
       "      <td>0.340000</td>\n",
       "      <td>0.333300</td>\n",
       "      <td>0.480000</td>\n",
       "      <td>0.104500</td>\n",
       "      <td>4.000000</td>\n",
       "      <td>34.000000</td>\n",
       "      <td>40.000000</td>\n",
       "    </tr>\n",
       "    <tr>\n",
       "      <th>50%</th>\n",
       "      <td>8690.0000</td>\n",
       "      <td>3.000000</td>\n",
       "      <td>1.000000</td>\n",
       "      <td>7.000000</td>\n",
       "      <td>12.000000</td>\n",
       "      <td>0.000000</td>\n",
       "      <td>3.000000</td>\n",
       "      <td>1.000000</td>\n",
       "      <td>1.000000</td>\n",
       "      <td>0.500000</td>\n",
       "      <td>0.484800</td>\n",
       "      <td>0.630000</td>\n",
       "      <td>0.194000</td>\n",
       "      <td>17.000000</td>\n",
       "      <td>115.000000</td>\n",
       "      <td>142.000000</td>\n",
       "    </tr>\n",
       "    <tr>\n",
       "      <th>75%</th>\n",
       "      <td>13034.5000</td>\n",
       "      <td>3.000000</td>\n",
       "      <td>1.000000</td>\n",
       "      <td>10.000000</td>\n",
       "      <td>18.000000</td>\n",
       "      <td>0.000000</td>\n",
       "      <td>5.000000</td>\n",
       "      <td>1.000000</td>\n",
       "      <td>2.000000</td>\n",
       "      <td>0.660000</td>\n",
       "      <td>0.621200</td>\n",
       "      <td>0.780000</td>\n",
       "      <td>0.253700</td>\n",
       "      <td>48.000000</td>\n",
       "      <td>220.000000</td>\n",
       "      <td>281.000000</td>\n",
       "    </tr>\n",
       "    <tr>\n",
       "      <th>max</th>\n",
       "      <td>17379.0000</td>\n",
       "      <td>4.000000</td>\n",
       "      <td>1.000000</td>\n",
       "      <td>12.000000</td>\n",
       "      <td>23.000000</td>\n",
       "      <td>1.000000</td>\n",
       "      <td>6.000000</td>\n",
       "      <td>1.000000</td>\n",
       "      <td>4.000000</td>\n",
       "      <td>1.000000</td>\n",
       "      <td>1.000000</td>\n",
       "      <td>1.000000</td>\n",
       "      <td>0.850700</td>\n",
       "      <td>367.000000</td>\n",
       "      <td>886.000000</td>\n",
       "      <td>977.000000</td>\n",
       "    </tr>\n",
       "  </tbody>\n",
       "</table>\n",
       "</div>"
      ],
      "text/plain": [
       "          instant        season            yr          mnth            hr  \\\n",
       "count  17379.0000  17379.000000  17379.000000  17379.000000  17379.000000   \n",
       "mean    8690.0000      2.501640      0.502561      6.537775     11.546752   \n",
       "std     5017.0295      1.106918      0.500008      3.438776      6.914405   \n",
       "min        1.0000      1.000000      0.000000      1.000000      0.000000   \n",
       "25%     4345.5000      2.000000      0.000000      4.000000      6.000000   \n",
       "50%     8690.0000      3.000000      1.000000      7.000000     12.000000   \n",
       "75%    13034.5000      3.000000      1.000000     10.000000     18.000000   \n",
       "max    17379.0000      4.000000      1.000000     12.000000     23.000000   \n",
       "\n",
       "            holiday       weekday    workingday    weathersit          temp  \\\n",
       "count  17379.000000  17379.000000  17379.000000  17379.000000  17379.000000   \n",
       "mean       0.028770      3.003683      0.682721      1.425283      0.496987   \n",
       "std        0.167165      2.005771      0.465431      0.639357      0.192556   \n",
       "min        0.000000      0.000000      0.000000      1.000000      0.020000   \n",
       "25%        0.000000      1.000000      0.000000      1.000000      0.340000   \n",
       "50%        0.000000      3.000000      1.000000      1.000000      0.500000   \n",
       "75%        0.000000      5.000000      1.000000      2.000000      0.660000   \n",
       "max        1.000000      6.000000      1.000000      4.000000      1.000000   \n",
       "\n",
       "              atemp           hum     windspeed        casual    registered  \\\n",
       "count  17379.000000  17379.000000  17379.000000  17379.000000  17379.000000   \n",
       "mean       0.475775      0.627229      0.190098     35.676218    153.786869   \n",
       "std        0.171850      0.192930      0.122340     49.305030    151.357286   \n",
       "min        0.000000      0.000000      0.000000      0.000000      0.000000   \n",
       "25%        0.333300      0.480000      0.104500      4.000000     34.000000   \n",
       "50%        0.484800      0.630000      0.194000     17.000000    115.000000   \n",
       "75%        0.621200      0.780000      0.253700     48.000000    220.000000   \n",
       "max        1.000000      1.000000      0.850700    367.000000    886.000000   \n",
       "\n",
       "                cnt  \n",
       "count  17379.000000  \n",
       "mean     189.463088  \n",
       "std      181.387599  \n",
       "min        1.000000  \n",
       "25%       40.000000  \n",
       "50%      142.000000  \n",
       "75%      281.000000  \n",
       "max      977.000000  "
      ]
     },
     "execution_count": 7,
     "metadata": {},
     "output_type": "execute_result"
    }
   ],
   "source": [
    "hour_df.describe()"
   ]
  },
  {
   "cell_type": "markdown",
   "metadata": {
    "id": "oA3dAbWcSWDN",
    "jp-MarkdownHeadingCollapsed": true
   },
   "source": [
    "### Menilai Data day_df"
   ]
  },
  {
   "cell_type": "code",
   "execution_count": 8,
   "metadata": {
    "colab": {
     "base_uri": "https://localhost:8080/"
    },
    "id": "bw5YrjTzSZdA",
    "outputId": "2f078f29-75f0-47a2-b338-7520a2344583"
   },
   "outputs": [
    {
     "name": "stdout",
     "output_type": "stream",
     "text": [
      "<class 'pandas.core.frame.DataFrame'>\n",
      "RangeIndex: 731 entries, 0 to 730\n",
      "Data columns (total 16 columns):\n",
      " #   Column      Non-Null Count  Dtype  \n",
      "---  ------      --------------  -----  \n",
      " 0   instant     731 non-null    int64  \n",
      " 1   dteday      731 non-null    object \n",
      " 2   season      731 non-null    int64  \n",
      " 3   yr          731 non-null    int64  \n",
      " 4   mnth        731 non-null    int64  \n",
      " 5   holiday     731 non-null    int64  \n",
      " 6   weekday     731 non-null    int64  \n",
      " 7   workingday  731 non-null    int64  \n",
      " 8   weathersit  731 non-null    int64  \n",
      " 9   temp        731 non-null    float64\n",
      " 10  atemp       731 non-null    float64\n",
      " 11  hum         731 non-null    float64\n",
      " 12  windspeed   731 non-null    float64\n",
      " 13  casual      731 non-null    int64  \n",
      " 14  registered  731 non-null    int64  \n",
      " 15  cnt         731 non-null    int64  \n",
      "dtypes: float64(4), int64(11), object(1)\n",
      "memory usage: 91.5+ KB\n"
     ]
    }
   ],
   "source": [
    "day_df.info()"
   ]
  },
  {
   "cell_type": "markdown",
   "metadata": {
    "id": "fwvKlfPqXJLt"
   },
   "source": [
    "Berdasarkan info diatas terdapat **terdapat kesalahan/perlu koreksi tipe data** pada kolom :\n",
    "- dteday\n",
    "- season\n",
    "- yr\n",
    "- mnth\n",
    "- weathersit\n",
    "- workingday\n",
    "\n",
    "Lalu untuk **data yang tidak akan digunakan** ada pada kolom :\n",
    "- instant\n",
    "- holiday\n",
    "- weekday\n",
    "- atemp"
   ]
  },
  {
   "cell_type": "code",
   "execution_count": 9,
   "metadata": {
    "colab": {
     "base_uri": "https://localhost:8080/"
    },
    "id": "j4a2bywNYrzX",
    "outputId": "43dddcc6-d148-4756-de56-d04696d44c86"
   },
   "outputs": [
    {
     "data": {
      "text/plain": [
       "instant       0\n",
       "dteday        0\n",
       "season        0\n",
       "yr            0\n",
       "mnth          0\n",
       "holiday       0\n",
       "weekday       0\n",
       "workingday    0\n",
       "weathersit    0\n",
       "temp          0\n",
       "atemp         0\n",
       "hum           0\n",
       "windspeed     0\n",
       "casual        0\n",
       "registered    0\n",
       "cnt           0\n",
       "dtype: int64"
      ]
     },
     "execution_count": 9,
     "metadata": {},
     "output_type": "execute_result"
    }
   ],
   "source": [
    "day_df.isna().sum()"
   ]
  },
  {
   "cell_type": "markdown",
   "metadata": {
    "id": "xIjX6XzXY1WF"
   },
   "source": [
    "Berdasarkan pengecekan setiap kolom diatas, ternyata **tidak ada data yang kosong(Nan).**"
   ]
  },
  {
   "cell_type": "code",
   "execution_count": 10,
   "metadata": {
    "colab": {
     "base_uri": "https://localhost:8080/"
    },
    "id": "8RewvOo5Yrsn",
    "outputId": "62424c90-393a-4949-bfa0-63395151e51d"
   },
   "outputs": [
    {
     "name": "stdout",
     "output_type": "stream",
     "text": [
      "Jumlah duplikasi data:  0\n"
     ]
    }
   ],
   "source": [
    "print(\"Jumlah duplikasi data: \", day_df.duplicated().sum())"
   ]
  },
  {
   "cell_type": "code",
   "execution_count": 11,
   "metadata": {
    "colab": {
     "base_uri": "https://localhost:8080/",
     "height": 0
    },
    "id": "DMDNMEORYrgz",
    "outputId": "5f0575c8-c897-466e-f85e-f463da464174"
   },
   "outputs": [
    {
     "data": {
      "text/html": [
       "<div>\n",
       "<style scoped>\n",
       "    .dataframe tbody tr th:only-of-type {\n",
       "        vertical-align: middle;\n",
       "    }\n",
       "\n",
       "    .dataframe tbody tr th {\n",
       "        vertical-align: top;\n",
       "    }\n",
       "\n",
       "    .dataframe thead th {\n",
       "        text-align: right;\n",
       "    }\n",
       "</style>\n",
       "<table border=\"1\" class=\"dataframe\">\n",
       "  <thead>\n",
       "    <tr style=\"text-align: right;\">\n",
       "      <th></th>\n",
       "      <th>instant</th>\n",
       "      <th>season</th>\n",
       "      <th>yr</th>\n",
       "      <th>mnth</th>\n",
       "      <th>holiday</th>\n",
       "      <th>weekday</th>\n",
       "      <th>workingday</th>\n",
       "      <th>weathersit</th>\n",
       "      <th>temp</th>\n",
       "      <th>atemp</th>\n",
       "      <th>hum</th>\n",
       "      <th>windspeed</th>\n",
       "      <th>casual</th>\n",
       "      <th>registered</th>\n",
       "      <th>cnt</th>\n",
       "    </tr>\n",
       "  </thead>\n",
       "  <tbody>\n",
       "    <tr>\n",
       "      <th>count</th>\n",
       "      <td>731.000000</td>\n",
       "      <td>731.000000</td>\n",
       "      <td>731.000000</td>\n",
       "      <td>731.000000</td>\n",
       "      <td>731.000000</td>\n",
       "      <td>731.000000</td>\n",
       "      <td>731.000000</td>\n",
       "      <td>731.000000</td>\n",
       "      <td>731.000000</td>\n",
       "      <td>731.000000</td>\n",
       "      <td>731.000000</td>\n",
       "      <td>731.000000</td>\n",
       "      <td>731.000000</td>\n",
       "      <td>731.000000</td>\n",
       "      <td>731.000000</td>\n",
       "    </tr>\n",
       "    <tr>\n",
       "      <th>mean</th>\n",
       "      <td>366.000000</td>\n",
       "      <td>2.496580</td>\n",
       "      <td>0.500684</td>\n",
       "      <td>6.519836</td>\n",
       "      <td>0.028728</td>\n",
       "      <td>2.997264</td>\n",
       "      <td>0.683995</td>\n",
       "      <td>1.395349</td>\n",
       "      <td>0.495385</td>\n",
       "      <td>0.474354</td>\n",
       "      <td>0.627894</td>\n",
       "      <td>0.190486</td>\n",
       "      <td>848.176471</td>\n",
       "      <td>3656.172367</td>\n",
       "      <td>4504.348837</td>\n",
       "    </tr>\n",
       "    <tr>\n",
       "      <th>std</th>\n",
       "      <td>211.165812</td>\n",
       "      <td>1.110807</td>\n",
       "      <td>0.500342</td>\n",
       "      <td>3.451913</td>\n",
       "      <td>0.167155</td>\n",
       "      <td>2.004787</td>\n",
       "      <td>0.465233</td>\n",
       "      <td>0.544894</td>\n",
       "      <td>0.183051</td>\n",
       "      <td>0.162961</td>\n",
       "      <td>0.142429</td>\n",
       "      <td>0.077498</td>\n",
       "      <td>686.622488</td>\n",
       "      <td>1560.256377</td>\n",
       "      <td>1937.211452</td>\n",
       "    </tr>\n",
       "    <tr>\n",
       "      <th>min</th>\n",
       "      <td>1.000000</td>\n",
       "      <td>1.000000</td>\n",
       "      <td>0.000000</td>\n",
       "      <td>1.000000</td>\n",
       "      <td>0.000000</td>\n",
       "      <td>0.000000</td>\n",
       "      <td>0.000000</td>\n",
       "      <td>1.000000</td>\n",
       "      <td>0.059130</td>\n",
       "      <td>0.079070</td>\n",
       "      <td>0.000000</td>\n",
       "      <td>0.022392</td>\n",
       "      <td>2.000000</td>\n",
       "      <td>20.000000</td>\n",
       "      <td>22.000000</td>\n",
       "    </tr>\n",
       "    <tr>\n",
       "      <th>25%</th>\n",
       "      <td>183.500000</td>\n",
       "      <td>2.000000</td>\n",
       "      <td>0.000000</td>\n",
       "      <td>4.000000</td>\n",
       "      <td>0.000000</td>\n",
       "      <td>1.000000</td>\n",
       "      <td>0.000000</td>\n",
       "      <td>1.000000</td>\n",
       "      <td>0.337083</td>\n",
       "      <td>0.337842</td>\n",
       "      <td>0.520000</td>\n",
       "      <td>0.134950</td>\n",
       "      <td>315.500000</td>\n",
       "      <td>2497.000000</td>\n",
       "      <td>3152.000000</td>\n",
       "    </tr>\n",
       "    <tr>\n",
       "      <th>50%</th>\n",
       "      <td>366.000000</td>\n",
       "      <td>3.000000</td>\n",
       "      <td>1.000000</td>\n",
       "      <td>7.000000</td>\n",
       "      <td>0.000000</td>\n",
       "      <td>3.000000</td>\n",
       "      <td>1.000000</td>\n",
       "      <td>1.000000</td>\n",
       "      <td>0.498333</td>\n",
       "      <td>0.486733</td>\n",
       "      <td>0.626667</td>\n",
       "      <td>0.180975</td>\n",
       "      <td>713.000000</td>\n",
       "      <td>3662.000000</td>\n",
       "      <td>4548.000000</td>\n",
       "    </tr>\n",
       "    <tr>\n",
       "      <th>75%</th>\n",
       "      <td>548.500000</td>\n",
       "      <td>3.000000</td>\n",
       "      <td>1.000000</td>\n",
       "      <td>10.000000</td>\n",
       "      <td>0.000000</td>\n",
       "      <td>5.000000</td>\n",
       "      <td>1.000000</td>\n",
       "      <td>2.000000</td>\n",
       "      <td>0.655417</td>\n",
       "      <td>0.608602</td>\n",
       "      <td>0.730209</td>\n",
       "      <td>0.233214</td>\n",
       "      <td>1096.000000</td>\n",
       "      <td>4776.500000</td>\n",
       "      <td>5956.000000</td>\n",
       "    </tr>\n",
       "    <tr>\n",
       "      <th>max</th>\n",
       "      <td>731.000000</td>\n",
       "      <td>4.000000</td>\n",
       "      <td>1.000000</td>\n",
       "      <td>12.000000</td>\n",
       "      <td>1.000000</td>\n",
       "      <td>6.000000</td>\n",
       "      <td>1.000000</td>\n",
       "      <td>3.000000</td>\n",
       "      <td>0.861667</td>\n",
       "      <td>0.840896</td>\n",
       "      <td>0.972500</td>\n",
       "      <td>0.507463</td>\n",
       "      <td>3410.000000</td>\n",
       "      <td>6946.000000</td>\n",
       "      <td>8714.000000</td>\n",
       "    </tr>\n",
       "  </tbody>\n",
       "</table>\n",
       "</div>"
      ],
      "text/plain": [
       "          instant      season          yr        mnth     holiday     weekday  \\\n",
       "count  731.000000  731.000000  731.000000  731.000000  731.000000  731.000000   \n",
       "mean   366.000000    2.496580    0.500684    6.519836    0.028728    2.997264   \n",
       "std    211.165812    1.110807    0.500342    3.451913    0.167155    2.004787   \n",
       "min      1.000000    1.000000    0.000000    1.000000    0.000000    0.000000   \n",
       "25%    183.500000    2.000000    0.000000    4.000000    0.000000    1.000000   \n",
       "50%    366.000000    3.000000    1.000000    7.000000    0.000000    3.000000   \n",
       "75%    548.500000    3.000000    1.000000   10.000000    0.000000    5.000000   \n",
       "max    731.000000    4.000000    1.000000   12.000000    1.000000    6.000000   \n",
       "\n",
       "       workingday  weathersit        temp       atemp         hum   windspeed  \\\n",
       "count  731.000000  731.000000  731.000000  731.000000  731.000000  731.000000   \n",
       "mean     0.683995    1.395349    0.495385    0.474354    0.627894    0.190486   \n",
       "std      0.465233    0.544894    0.183051    0.162961    0.142429    0.077498   \n",
       "min      0.000000    1.000000    0.059130    0.079070    0.000000    0.022392   \n",
       "25%      0.000000    1.000000    0.337083    0.337842    0.520000    0.134950   \n",
       "50%      1.000000    1.000000    0.498333    0.486733    0.626667    0.180975   \n",
       "75%      1.000000    2.000000    0.655417    0.608602    0.730209    0.233214   \n",
       "max      1.000000    3.000000    0.861667    0.840896    0.972500    0.507463   \n",
       "\n",
       "            casual   registered          cnt  \n",
       "count   731.000000   731.000000   731.000000  \n",
       "mean    848.176471  3656.172367  4504.348837  \n",
       "std     686.622488  1560.256377  1937.211452  \n",
       "min       2.000000    20.000000    22.000000  \n",
       "25%     315.500000  2497.000000  3152.000000  \n",
       "50%     713.000000  3662.000000  4548.000000  \n",
       "75%    1096.000000  4776.500000  5956.000000  \n",
       "max    3410.000000  6946.000000  8714.000000  "
      ]
     },
     "execution_count": 11,
     "metadata": {},
     "output_type": "execute_result"
    }
   ],
   "source": [
    "day_df.describe()"
   ]
  },
  {
   "cell_type": "markdown",
   "metadata": {
    "id": "EhN5R4hr8DC1"
   },
   "source": [
    "## Cleaning Data"
   ]
  },
  {
   "cell_type": "markdown",
   "metadata": {
    "id": "QD-DWGicZwf8",
    "jp-MarkdownHeadingCollapsed": true
   },
   "source": [
    "### Membersihkan Data hour_df"
   ]
  },
  {
   "cell_type": "markdown",
   "metadata": {
    "id": "lEkOnsTcaBjf"
   },
   "source": [
    "Merubah tipe data pada beberapa kolom\n",
    "\n",
    "Lalu juga menghapus/drop kolom yang tidak diperlukan\n"
   ]
  },
  {
   "cell_type": "code",
   "execution_count": 12,
   "metadata": {
    "colab": {
     "base_uri": "https://localhost:8080/"
    },
    "id": "8g53Cm28Z-kH",
    "outputId": "40d9fa27-098d-4406-93dc-cf58b9e5233a",
    "scrolled": true
   },
   "outputs": [
    {
     "name": "stdout",
     "output_type": "stream",
     "text": [
      "<class 'pandas.core.frame.DataFrame'>\n",
      "RangeIndex: 17379 entries, 0 to 17378\n",
      "Data columns (total 12 columns):\n",
      " #   Column      Non-Null Count  Dtype         \n",
      "---  ------      --------------  -----         \n",
      " 0   dteday      17379 non-null  datetime64[ns]\n",
      " 1   season      17379 non-null  category      \n",
      " 2   hr          17379 non-null  int64         \n",
      " 3   weekday     17379 non-null  category      \n",
      " 4   workingday  17379 non-null  category      \n",
      " 5   weathersit  17379 non-null  category      \n",
      " 6   temp        17379 non-null  float64       \n",
      " 7   hum         17379 non-null  float64       \n",
      " 8   windspeed   17379 non-null  float64       \n",
      " 9   casual      17379 non-null  int64         \n",
      " 10  registered  17379 non-null  int64         \n",
      " 11  cnt         17379 non-null  int64         \n",
      "dtypes: category(4), datetime64[ns](1), float64(3), int64(4)\n",
      "memory usage: 1.1 MB\n"
     ]
    }
   ],
   "source": [
    "# CONVERTING COLUMN DATA TYPE\n",
    "hour_df['dteday'] = pd.to_datetime(hour_df['dteday'])\n",
    "hour_df['season'] = hour_df.season.astype('category')\n",
    "hour_df['weathersit'] = hour_df.weathersit.astype('category')\n",
    "hour_df['weekday'] = hour_df.weekday.astype('category')\n",
    "hour_df['workingday'] = hour_df.workingday.astype('category')\n",
    "\n",
    "# DROP COLUMN\n",
    "hour_df = hour_df.drop([\"instant\",\"yr\",\"mnth\",\"holiday\",\"atemp\"], axis=1)\n",
    "hour_df.info()"
   ]
  },
  {
   "cell_type": "markdown",
   "metadata": {
    "id": "XTj-HDndl4Ia"
   },
   "source": [
    "Mengonversi data pada kolom kategori variabel berdasarkan kriteria yang ditunjukkan pada file readme.txt"
   ]
  },
  {
   "cell_type": "code",
   "execution_count": 13,
   "metadata": {
    "id": "aQ7uO3xciYUQ"
   },
   "outputs": [],
   "source": [
    "# Konversi nilai untuk kolom 'season' : 1:Winter, 2:Spring, 3:Summer, 4:Fall\n",
    "hour_df.season.replace((1,2,3,4), ('Winter','Spring','Summer','Fall'), inplace=True)\n",
    "\n",
    "# Konversi nilai untuk kolom 'weathersit' : 1:Clear, 2:Misty, 3:Light_RainSnow 4:Heavy_RainSnow\n",
    "hour_df.weathersit.replace((1,2,3,4), ('Clear','Misty','Light_RainSnow','Heavy_RainSnow'), inplace=True)\n",
    "\n",
    "# Konversi nilai untuk kolom 'weekday' : 0:Sun, 1:Mon, 2:Tue, 3:Wed, 4:Thu, 5:Fri, 6:Sat\n",
    "hour_df.weekday.replace((0,1,2,3,4,5,6), ('Sunday','Monday','Tuesday','Wednesday','Thursday','Friday','Saturday'), inplace=True)\n",
    "\n",
    "# Konversi nilai untuk kolom 'workingday' : 0:No, 1:Yes\n",
    "hour_df.workingday.replace((0,1), ('No', 'Yes'), inplace=True)"
   ]
  },
  {
   "cell_type": "markdown",
   "metadata": {
    "id": "qR-u2UORpm-x"
   },
   "source": [
    "Merubah beberapa nama kolom agar lebih mudah dimengerti"
   ]
  },
  {
   "cell_type": "code",
   "execution_count": 14,
   "metadata": {
    "id": "sUOM0YoFpKHW"
   },
   "outputs": [],
   "source": [
    "hour_df.rename(columns={\n",
    "    \"dteday\" : \"date\",\n",
    "    \"hr\": \"hour\",\n",
    "    \"weathersit\" : \"weather\",\n",
    "    \"temp\": \"temperature\",\n",
    "    \"hum\" : \"humidity\",\n",
    "    \"cnt\" : \"total_count\"}, inplace=True\n",
    ")"
   ]
  },
  {
   "cell_type": "markdown",
   "metadata": {
    "id": "40wLmXdw2v8_"
   },
   "source": [
    "Merubah nilai dari 'temperature', 'humidity, 'windspeed' ke dalam nilai yang belum dinormalisasi"
   ]
  },
  {
   "cell_type": "code",
   "execution_count": 15,
   "metadata": {
    "id": "ozCij-mWJUK1"
   },
   "outputs": [],
   "source": [
    "hour_df['temperature'] = hour_df['temperature']*41\n",
    "hour_df['humidity'] = hour_df['humidity']*100\n",
    "hour_df['windspeed'] = hour_df['windspeed']*67"
   ]
  },
  {
   "cell_type": "code",
   "execution_count": 16,
   "metadata": {
    "colab": {
     "base_uri": "https://localhost:8080/",
     "height": 0
    },
    "id": "YhJMUGg8kLzT",
    "outputId": "c0c59558-6873-4082-9d86-b195d41bc95f"
   },
   "outputs": [
    {
     "data": {
      "text/html": [
       "<div>\n",
       "<style scoped>\n",
       "    .dataframe tbody tr th:only-of-type {\n",
       "        vertical-align: middle;\n",
       "    }\n",
       "\n",
       "    .dataframe tbody tr th {\n",
       "        vertical-align: top;\n",
       "    }\n",
       "\n",
       "    .dataframe thead th {\n",
       "        text-align: right;\n",
       "    }\n",
       "</style>\n",
       "<table border=\"1\" class=\"dataframe\">\n",
       "  <thead>\n",
       "    <tr style=\"text-align: right;\">\n",
       "      <th></th>\n",
       "      <th>date</th>\n",
       "      <th>season</th>\n",
       "      <th>hour</th>\n",
       "      <th>weekday</th>\n",
       "      <th>workingday</th>\n",
       "      <th>weather</th>\n",
       "      <th>temperature</th>\n",
       "      <th>humidity</th>\n",
       "      <th>windspeed</th>\n",
       "      <th>casual</th>\n",
       "      <th>registered</th>\n",
       "      <th>total_count</th>\n",
       "    </tr>\n",
       "  </thead>\n",
       "  <tbody>\n",
       "    <tr>\n",
       "      <th>0</th>\n",
       "      <td>2011-01-01</td>\n",
       "      <td>Winter</td>\n",
       "      <td>0</td>\n",
       "      <td>Saturday</td>\n",
       "      <td>No</td>\n",
       "      <td>Clear</td>\n",
       "      <td>9.84</td>\n",
       "      <td>81.0</td>\n",
       "      <td>0.0</td>\n",
       "      <td>3</td>\n",
       "      <td>13</td>\n",
       "      <td>16</td>\n",
       "    </tr>\n",
       "    <tr>\n",
       "      <th>1</th>\n",
       "      <td>2011-01-01</td>\n",
       "      <td>Winter</td>\n",
       "      <td>1</td>\n",
       "      <td>Saturday</td>\n",
       "      <td>No</td>\n",
       "      <td>Clear</td>\n",
       "      <td>9.02</td>\n",
       "      <td>80.0</td>\n",
       "      <td>0.0</td>\n",
       "      <td>8</td>\n",
       "      <td>32</td>\n",
       "      <td>40</td>\n",
       "    </tr>\n",
       "    <tr>\n",
       "      <th>2</th>\n",
       "      <td>2011-01-01</td>\n",
       "      <td>Winter</td>\n",
       "      <td>2</td>\n",
       "      <td>Saturday</td>\n",
       "      <td>No</td>\n",
       "      <td>Clear</td>\n",
       "      <td>9.02</td>\n",
       "      <td>80.0</td>\n",
       "      <td>0.0</td>\n",
       "      <td>5</td>\n",
       "      <td>27</td>\n",
       "      <td>32</td>\n",
       "    </tr>\n",
       "    <tr>\n",
       "      <th>3</th>\n",
       "      <td>2011-01-01</td>\n",
       "      <td>Winter</td>\n",
       "      <td>3</td>\n",
       "      <td>Saturday</td>\n",
       "      <td>No</td>\n",
       "      <td>Clear</td>\n",
       "      <td>9.84</td>\n",
       "      <td>75.0</td>\n",
       "      <td>0.0</td>\n",
       "      <td>3</td>\n",
       "      <td>10</td>\n",
       "      <td>13</td>\n",
       "    </tr>\n",
       "    <tr>\n",
       "      <th>4</th>\n",
       "      <td>2011-01-01</td>\n",
       "      <td>Winter</td>\n",
       "      <td>4</td>\n",
       "      <td>Saturday</td>\n",
       "      <td>No</td>\n",
       "      <td>Clear</td>\n",
       "      <td>9.84</td>\n",
       "      <td>75.0</td>\n",
       "      <td>0.0</td>\n",
       "      <td>0</td>\n",
       "      <td>1</td>\n",
       "      <td>1</td>\n",
       "    </tr>\n",
       "  </tbody>\n",
       "</table>\n",
       "</div>"
      ],
      "text/plain": [
       "        date  season  hour   weekday workingday weather  temperature  \\\n",
       "0 2011-01-01  Winter     0  Saturday         No   Clear         9.84   \n",
       "1 2011-01-01  Winter     1  Saturday         No   Clear         9.02   \n",
       "2 2011-01-01  Winter     2  Saturday         No   Clear         9.02   \n",
       "3 2011-01-01  Winter     3  Saturday         No   Clear         9.84   \n",
       "4 2011-01-01  Winter     4  Saturday         No   Clear         9.84   \n",
       "\n",
       "   humidity  windspeed  casual  registered  total_count  \n",
       "0      81.0        0.0       3          13           16  \n",
       "1      80.0        0.0       8          32           40  \n",
       "2      80.0        0.0       5          27           32  \n",
       "3      75.0        0.0       3          10           13  \n",
       "4      75.0        0.0       0           1            1  "
      ]
     },
     "execution_count": 16,
     "metadata": {},
     "output_type": "execute_result"
    }
   ],
   "source": [
    "hour_df.head()"
   ]
  },
  {
   "cell_type": "markdown",
   "metadata": {
    "id": "lT9fza8CZ2Dx",
    "jp-MarkdownHeadingCollapsed": true
   },
   "source": [
    "### Membersihkan Data day_df"
   ]
  },
  {
   "cell_type": "markdown",
   "metadata": {
    "id": "ZG-duV3fZwVI"
   },
   "source": [
    "Merubah tipe data pada beberapa kolom\n",
    "\n",
    "Lalu juga menghapus/drop kolom yang tidak diperlukan"
   ]
  },
  {
   "cell_type": "code",
   "execution_count": 17,
   "metadata": {
    "colab": {
     "base_uri": "https://localhost:8080/"
    },
    "id": "jVnYpprE9Evz",
    "outputId": "3d97f485-3cf6-417c-8bfd-057369814199"
   },
   "outputs": [
    {
     "name": "stdout",
     "output_type": "stream",
     "text": [
      "<class 'pandas.core.frame.DataFrame'>\n",
      "RangeIndex: 731 entries, 0 to 730\n",
      "Data columns (total 12 columns):\n",
      " #   Column      Non-Null Count  Dtype         \n",
      "---  ------      --------------  -----         \n",
      " 0   dteday      731 non-null    datetime64[ns]\n",
      " 1   season      731 non-null    category      \n",
      " 2   yr          731 non-null    category      \n",
      " 3   mnth        731 non-null    category      \n",
      " 4   workingday  731 non-null    category      \n",
      " 5   weathersit  731 non-null    category      \n",
      " 6   temp        731 non-null    float64       \n",
      " 7   hum         731 non-null    float64       \n",
      " 8   windspeed   731 non-null    float64       \n",
      " 9   casual      731 non-null    int64         \n",
      " 10  registered  731 non-null    int64         \n",
      " 11  cnt         731 non-null    int64         \n",
      "dtypes: category(5), datetime64[ns](1), float64(3), int64(3)\n",
      "memory usage: 44.6 KB\n"
     ]
    }
   ],
   "source": [
    "# CONVERTING COLUMN DATA TYPE\n",
    "day_df['dteday'] = pd.to_datetime(day_df['dteday'])\n",
    "day_df['season'] = day_df.season.astype('category')\n",
    "day_df['yr'] = day_df.yr.astype('category')\n",
    "day_df['mnth'] = day_df.mnth.astype('category')\n",
    "day_df['weathersit'] = day_df.weathersit.astype('category')\n",
    "day_df['workingday'] = day_df.workingday.astype('category')\n",
    "\n",
    "# DROP COLUMN\n",
    "day_df = day_df.drop([\"instant\",\"holiday\",\"weekday\",\"atemp\"], axis=1)\n",
    "day_df.info()"
   ]
  },
  {
   "cell_type": "markdown",
   "metadata": {
    "id": "bNTQW7WuoWpW"
   },
   "source": [
    "Mengonversi data pada kolom kategori variabel berdasarkan kriteria yang ditunjukkan pada file readme.txt"
   ]
  },
  {
   "cell_type": "code",
   "execution_count": 18,
   "metadata": {
    "id": "dXc0Y0gVoWFX"
   },
   "outputs": [],
   "source": [
    "# Konversi nilai untuk kolom 'season' : 1:Winter, 2:Spring, 3:Summer, 4:Fall\n",
    "day_df.season.replace((1,2,3,4), ('Winter','Spring','Summer','Fall'), inplace=True)\n",
    "\n",
    "# Konversi nilai untuk kolom 'yr' : 0:2011, 1:2012\n",
    "day_df.yr.replace((0,1), (2011,2012), inplace=True)\n",
    "\n",
    "# Konversi nilai untuk kolom 'mnth' :  1:Jan, 2:Feb, 3:Mar, 4:Apr, 5:May, 6:Jun, 7:Jul, 8:Aug, 9:Sep, 10:Oct, 11:Nov, 12:Dec\n",
    "day_df.mnth.replace((1,2,3,4,5,6,7,8,9,10,11,12),('Jan','Feb','Mar','Apr','May','Jun','Jul','Aug','Sep','Oct','Nov','Dec'), inplace=True)\n",
    "\n",
    "# Konversi nilai untuk kolom 'weathersit' : 1:Clear, 2:Misty, 3:Light_RainSnow 4:Heavy_RainSnow\n",
    "day_df.weathersit.replace((1,2,3,4), ('Clear','Misty','Light_RainSnow','Heavy_RainSnow'), inplace=True)\n",
    "\n",
    "# Konversi nilai untuk kolom 'workingday' : 0:No, 1:Yes\n",
    "day_df.workingday.replace((0,1), ('No', 'Yes'), inplace=True)"
   ]
  },
  {
   "cell_type": "markdown",
   "metadata": {
    "id": "vmvTL05Hpyc3"
   },
   "source": [
    "Merubah beberapa nama kolom agar lebih mudah dimengerti"
   ]
  },
  {
   "cell_type": "code",
   "execution_count": 19,
   "metadata": {
    "id": "QpUpmwwhpxcM"
   },
   "outputs": [],
   "source": [
    "day_df.rename(columns={\n",
    "    \"dteday\" : \"date\",\n",
    "    \"yr\": \"year\",\n",
    "    \"mnth\" : \"month\",\n",
    "    \"weathersit\" : \"weather\",\n",
    "    \"temp\": \"temperature\",\n",
    "    \"hum\" : \"humidity\",\n",
    "    \"cnt\" : \"total_count\"}, inplace=True\n",
    ")"
   ]
  },
  {
   "cell_type": "markdown",
   "metadata": {
    "id": "clS7IisHJBy6"
   },
   "source": [
    "Merubah nilai dari 'temperature', 'humidity, 'windspeed' ke dalam nilai yang belum dinormalisasi"
   ]
  },
  {
   "cell_type": "code",
   "execution_count": 20,
   "metadata": {
    "id": "dOdhMOeWJBGT"
   },
   "outputs": [],
   "source": [
    "day_df['temperature'] = day_df['temperature']*41\n",
    "day_df['humidity'] = day_df['humidity']*100\n",
    "day_df['windspeed'] = day_df['windspeed']*67"
   ]
  },
  {
   "cell_type": "code",
   "execution_count": 21,
   "metadata": {
    "colab": {
     "base_uri": "https://localhost:8080/",
     "height": 0
    },
    "id": "jfn8iVG-nkzn",
    "outputId": "f6ac985c-7e1e-4bc4-da0a-512a7f3d90f8"
   },
   "outputs": [
    {
     "data": {
      "text/html": [
       "<div>\n",
       "<style scoped>\n",
       "    .dataframe tbody tr th:only-of-type {\n",
       "        vertical-align: middle;\n",
       "    }\n",
       "\n",
       "    .dataframe tbody tr th {\n",
       "        vertical-align: top;\n",
       "    }\n",
       "\n",
       "    .dataframe thead th {\n",
       "        text-align: right;\n",
       "    }\n",
       "</style>\n",
       "<table border=\"1\" class=\"dataframe\">\n",
       "  <thead>\n",
       "    <tr style=\"text-align: right;\">\n",
       "      <th></th>\n",
       "      <th>date</th>\n",
       "      <th>season</th>\n",
       "      <th>year</th>\n",
       "      <th>month</th>\n",
       "      <th>workingday</th>\n",
       "      <th>weather</th>\n",
       "      <th>temperature</th>\n",
       "      <th>humidity</th>\n",
       "      <th>windspeed</th>\n",
       "      <th>casual</th>\n",
       "      <th>registered</th>\n",
       "      <th>total_count</th>\n",
       "    </tr>\n",
       "  </thead>\n",
       "  <tbody>\n",
       "    <tr>\n",
       "      <th>0</th>\n",
       "      <td>2011-01-01</td>\n",
       "      <td>Winter</td>\n",
       "      <td>2011</td>\n",
       "      <td>Jan</td>\n",
       "      <td>No</td>\n",
       "      <td>Misty</td>\n",
       "      <td>14.110847</td>\n",
       "      <td>80.5833</td>\n",
       "      <td>10.749882</td>\n",
       "      <td>331</td>\n",
       "      <td>654</td>\n",
       "      <td>985</td>\n",
       "    </tr>\n",
       "    <tr>\n",
       "      <th>1</th>\n",
       "      <td>2011-01-02</td>\n",
       "      <td>Winter</td>\n",
       "      <td>2011</td>\n",
       "      <td>Jan</td>\n",
       "      <td>No</td>\n",
       "      <td>Misty</td>\n",
       "      <td>14.902598</td>\n",
       "      <td>69.6087</td>\n",
       "      <td>16.652113</td>\n",
       "      <td>131</td>\n",
       "      <td>670</td>\n",
       "      <td>801</td>\n",
       "    </tr>\n",
       "    <tr>\n",
       "      <th>2</th>\n",
       "      <td>2011-01-03</td>\n",
       "      <td>Winter</td>\n",
       "      <td>2011</td>\n",
       "      <td>Jan</td>\n",
       "      <td>Yes</td>\n",
       "      <td>Clear</td>\n",
       "      <td>8.050924</td>\n",
       "      <td>43.7273</td>\n",
       "      <td>16.636703</td>\n",
       "      <td>120</td>\n",
       "      <td>1229</td>\n",
       "      <td>1349</td>\n",
       "    </tr>\n",
       "    <tr>\n",
       "      <th>3</th>\n",
       "      <td>2011-01-04</td>\n",
       "      <td>Winter</td>\n",
       "      <td>2011</td>\n",
       "      <td>Jan</td>\n",
       "      <td>Yes</td>\n",
       "      <td>Clear</td>\n",
       "      <td>8.200000</td>\n",
       "      <td>59.0435</td>\n",
       "      <td>10.739832</td>\n",
       "      <td>108</td>\n",
       "      <td>1454</td>\n",
       "      <td>1562</td>\n",
       "    </tr>\n",
       "    <tr>\n",
       "      <th>4</th>\n",
       "      <td>2011-01-05</td>\n",
       "      <td>Winter</td>\n",
       "      <td>2011</td>\n",
       "      <td>Jan</td>\n",
       "      <td>Yes</td>\n",
       "      <td>Clear</td>\n",
       "      <td>9.305237</td>\n",
       "      <td>43.6957</td>\n",
       "      <td>12.522300</td>\n",
       "      <td>82</td>\n",
       "      <td>1518</td>\n",
       "      <td>1600</td>\n",
       "    </tr>\n",
       "  </tbody>\n",
       "</table>\n",
       "</div>"
      ],
      "text/plain": [
       "        date  season  year month workingday weather  temperature  humidity  \\\n",
       "0 2011-01-01  Winter  2011   Jan         No   Misty    14.110847   80.5833   \n",
       "1 2011-01-02  Winter  2011   Jan         No   Misty    14.902598   69.6087   \n",
       "2 2011-01-03  Winter  2011   Jan        Yes   Clear     8.050924   43.7273   \n",
       "3 2011-01-04  Winter  2011   Jan        Yes   Clear     8.200000   59.0435   \n",
       "4 2011-01-05  Winter  2011   Jan        Yes   Clear     9.305237   43.6957   \n",
       "\n",
       "   windspeed  casual  registered  total_count  \n",
       "0  10.749882     331         654          985  \n",
       "1  16.652113     131         670          801  \n",
       "2  16.636703     120        1229         1349  \n",
       "3  10.739832     108        1454         1562  \n",
       "4  12.522300      82        1518         1600  "
      ]
     },
     "execution_count": 21,
     "metadata": {},
     "output_type": "execute_result"
    }
   ],
   "source": [
    "day_df.head()"
   ]
  },
  {
   "cell_type": "markdown",
   "metadata": {
    "id": "gp-Y6wU38DC1"
   },
   "source": [
    "# Exploratory Data Analysis (EDA)"
   ]
  },
  {
   "cell_type": "markdown",
   "metadata": {
    "id": "eDPkMvfsLdTt",
    "jp-MarkdownHeadingCollapsed": true
   },
   "source": [
    "### Explore Data hour_df\n"
   ]
  },
  {
   "cell_type": "code",
   "execution_count": 22,
   "metadata": {
    "colab": {
     "base_uri": "https://localhost:8080/",
     "height": 0
    },
    "id": "vQH1gV3fLndM",
    "outputId": "bc4726ca-061e-4ab4-fbc8-b0b4d0d26078"
   },
   "outputs": [
    {
     "data": {
      "text/html": [
       "<div>\n",
       "<style scoped>\n",
       "    .dataframe tbody tr th:only-of-type {\n",
       "        vertical-align: middle;\n",
       "    }\n",
       "\n",
       "    .dataframe tbody tr th {\n",
       "        vertical-align: top;\n",
       "    }\n",
       "\n",
       "    .dataframe thead th {\n",
       "        text-align: right;\n",
       "    }\n",
       "</style>\n",
       "<table border=\"1\" class=\"dataframe\">\n",
       "  <thead>\n",
       "    <tr style=\"text-align: right;\">\n",
       "      <th></th>\n",
       "      <th>date</th>\n",
       "      <th>hour</th>\n",
       "      <th>temperature</th>\n",
       "      <th>humidity</th>\n",
       "      <th>windspeed</th>\n",
       "      <th>casual</th>\n",
       "      <th>registered</th>\n",
       "      <th>total_count</th>\n",
       "    </tr>\n",
       "  </thead>\n",
       "  <tbody>\n",
       "    <tr>\n",
       "      <th>count</th>\n",
       "      <td>17379</td>\n",
       "      <td>17379.000000</td>\n",
       "      <td>17379.000000</td>\n",
       "      <td>17379.000000</td>\n",
       "      <td>17379.000000</td>\n",
       "      <td>17379.000000</td>\n",
       "      <td>17379.000000</td>\n",
       "      <td>17379.000000</td>\n",
       "    </tr>\n",
       "    <tr>\n",
       "      <th>mean</th>\n",
       "      <td>2012-01-02 04:08:34.552045568</td>\n",
       "      <td>11.546752</td>\n",
       "      <td>20.376474</td>\n",
       "      <td>62.722884</td>\n",
       "      <td>12.736540</td>\n",
       "      <td>35.676218</td>\n",
       "      <td>153.786869</td>\n",
       "      <td>189.463088</td>\n",
       "    </tr>\n",
       "    <tr>\n",
       "      <th>min</th>\n",
       "      <td>2011-01-01 00:00:00</td>\n",
       "      <td>0.000000</td>\n",
       "      <td>0.820000</td>\n",
       "      <td>0.000000</td>\n",
       "      <td>0.000000</td>\n",
       "      <td>0.000000</td>\n",
       "      <td>0.000000</td>\n",
       "      <td>1.000000</td>\n",
       "    </tr>\n",
       "    <tr>\n",
       "      <th>25%</th>\n",
       "      <td>2011-07-04 00:00:00</td>\n",
       "      <td>6.000000</td>\n",
       "      <td>13.940000</td>\n",
       "      <td>48.000000</td>\n",
       "      <td>7.001500</td>\n",
       "      <td>4.000000</td>\n",
       "      <td>34.000000</td>\n",
       "      <td>40.000000</td>\n",
       "    </tr>\n",
       "    <tr>\n",
       "      <th>50%</th>\n",
       "      <td>2012-01-02 00:00:00</td>\n",
       "      <td>12.000000</td>\n",
       "      <td>20.500000</td>\n",
       "      <td>63.000000</td>\n",
       "      <td>12.998000</td>\n",
       "      <td>17.000000</td>\n",
       "      <td>115.000000</td>\n",
       "      <td>142.000000</td>\n",
       "    </tr>\n",
       "    <tr>\n",
       "      <th>75%</th>\n",
       "      <td>2012-07-02 00:00:00</td>\n",
       "      <td>18.000000</td>\n",
       "      <td>27.060000</td>\n",
       "      <td>78.000000</td>\n",
       "      <td>16.997900</td>\n",
       "      <td>48.000000</td>\n",
       "      <td>220.000000</td>\n",
       "      <td>281.000000</td>\n",
       "    </tr>\n",
       "    <tr>\n",
       "      <th>max</th>\n",
       "      <td>2012-12-31 00:00:00</td>\n",
       "      <td>23.000000</td>\n",
       "      <td>41.000000</td>\n",
       "      <td>100.000000</td>\n",
       "      <td>56.996900</td>\n",
       "      <td>367.000000</td>\n",
       "      <td>886.000000</td>\n",
       "      <td>977.000000</td>\n",
       "    </tr>\n",
       "    <tr>\n",
       "      <th>std</th>\n",
       "      <td>NaN</td>\n",
       "      <td>6.914405</td>\n",
       "      <td>7.894801</td>\n",
       "      <td>19.292983</td>\n",
       "      <td>8.196795</td>\n",
       "      <td>49.305030</td>\n",
       "      <td>151.357286</td>\n",
       "      <td>181.387599</td>\n",
       "    </tr>\n",
       "  </tbody>\n",
       "</table>\n",
       "</div>"
      ],
      "text/plain": [
       "                                date          hour   temperature  \\\n",
       "count                          17379  17379.000000  17379.000000   \n",
       "mean   2012-01-02 04:08:34.552045568     11.546752     20.376474   \n",
       "min              2011-01-01 00:00:00      0.000000      0.820000   \n",
       "25%              2011-07-04 00:00:00      6.000000     13.940000   \n",
       "50%              2012-01-02 00:00:00     12.000000     20.500000   \n",
       "75%              2012-07-02 00:00:00     18.000000     27.060000   \n",
       "max              2012-12-31 00:00:00     23.000000     41.000000   \n",
       "std                              NaN      6.914405      7.894801   \n",
       "\n",
       "           humidity     windspeed        casual    registered   total_count  \n",
       "count  17379.000000  17379.000000  17379.000000  17379.000000  17379.000000  \n",
       "mean      62.722884     12.736540     35.676218    153.786869    189.463088  \n",
       "min        0.000000      0.000000      0.000000      0.000000      1.000000  \n",
       "25%       48.000000      7.001500      4.000000     34.000000     40.000000  \n",
       "50%       63.000000     12.998000     17.000000    115.000000    142.000000  \n",
       "75%       78.000000     16.997900     48.000000    220.000000    281.000000  \n",
       "max      100.000000     56.996900    367.000000    886.000000    977.000000  \n",
       "std       19.292983      8.196795     49.305030    151.357286    181.387599  "
      ]
     },
     "execution_count": 22,
     "metadata": {},
     "output_type": "execute_result"
    }
   ],
   "source": [
    "hour_df.describe()"
   ]
  },
  {
   "cell_type": "markdown",
   "metadata": {
    "id": "wwWipZUFPJco"
   },
   "source": [
    "Berdasarkan tabel diatas, selama periode **2011-2012**, **per jamnya**, **jumlah pengguna sepeda dari kisaran 1 hingga 977 orang** dengan **rata-rata jumlah penggunanya 189.46 orang** dengan **standar deviasinya 181.38**"
   ]
  },
  {
   "cell_type": "code",
   "execution_count": 23,
   "metadata": {
    "colab": {
     "base_uri": "https://localhost:8080/",
     "height": 0
    },
    "id": "PcbLFK0GPsE-",
    "outputId": "4c2c29a5-beff-454c-c5a6-1da648e84add"
   },
   "outputs": [
    {
     "data": {
      "text/html": [
       "<div>\n",
       "<style scoped>\n",
       "    .dataframe tbody tr th:only-of-type {\n",
       "        vertical-align: middle;\n",
       "    }\n",
       "\n",
       "    .dataframe tbody tr th {\n",
       "        vertical-align: top;\n",
       "    }\n",
       "\n",
       "    .dataframe thead th {\n",
       "        text-align: right;\n",
       "    }\n",
       "</style>\n",
       "<table border=\"1\" class=\"dataframe\">\n",
       "  <thead>\n",
       "    <tr style=\"text-align: right;\">\n",
       "      <th></th>\n",
       "      <th>casual</th>\n",
       "      <th>registered</th>\n",
       "      <th>total_count</th>\n",
       "    </tr>\n",
       "    <tr>\n",
       "      <th>hour</th>\n",
       "      <th></th>\n",
       "      <th></th>\n",
       "      <th></th>\n",
       "    </tr>\n",
       "  </thead>\n",
       "  <tbody>\n",
       "    <tr>\n",
       "      <th>0</th>\n",
       "      <td>7375</td>\n",
       "      <td>31755</td>\n",
       "      <td>39130</td>\n",
       "    </tr>\n",
       "    <tr>\n",
       "      <th>1</th>\n",
       "      <td>4709</td>\n",
       "      <td>19455</td>\n",
       "      <td>24164</td>\n",
       "    </tr>\n",
       "    <tr>\n",
       "      <th>2</th>\n",
       "      <td>3412</td>\n",
       "      <td>12940</td>\n",
       "      <td>16352</td>\n",
       "    </tr>\n",
       "    <tr>\n",
       "      <th>3</th>\n",
       "      <td>1893</td>\n",
       "      <td>6281</td>\n",
       "      <td>8174</td>\n",
       "    </tr>\n",
       "    <tr>\n",
       "      <th>4</th>\n",
       "      <td>874</td>\n",
       "      <td>3554</td>\n",
       "      <td>4428</td>\n",
       "    </tr>\n",
       "    <tr>\n",
       "      <th>5</th>\n",
       "      <td>1012</td>\n",
       "      <td>13249</td>\n",
       "      <td>14261</td>\n",
       "    </tr>\n",
       "    <tr>\n",
       "      <th>6</th>\n",
       "      <td>3017</td>\n",
       "      <td>52115</td>\n",
       "      <td>55132</td>\n",
       "    </tr>\n",
       "    <tr>\n",
       "      <th>7</th>\n",
       "      <td>8037</td>\n",
       "      <td>146134</td>\n",
       "      <td>154171</td>\n",
       "    </tr>\n",
       "    <tr>\n",
       "      <th>8</th>\n",
       "      <td>15761</td>\n",
       "      <td>245240</td>\n",
       "      <td>261001</td>\n",
       "    </tr>\n",
       "    <tr>\n",
       "      <th>9</th>\n",
       "      <td>22458</td>\n",
       "      <td>136980</td>\n",
       "      <td>159438</td>\n",
       "    </tr>\n",
       "    <tr>\n",
       "      <th>10</th>\n",
       "      <td>33789</td>\n",
       "      <td>92468</td>\n",
       "      <td>126257</td>\n",
       "    </tr>\n",
       "    <tr>\n",
       "      <th>11</th>\n",
       "      <td>43286</td>\n",
       "      <td>108034</td>\n",
       "      <td>151320</td>\n",
       "    </tr>\n",
       "    <tr>\n",
       "      <th>12</th>\n",
       "      <td>49718</td>\n",
       "      <td>134696</td>\n",
       "      <td>184414</td>\n",
       "    </tr>\n",
       "    <tr>\n",
       "      <th>13</th>\n",
       "      <td>52713</td>\n",
       "      <td>132206</td>\n",
       "      <td>184919</td>\n",
       "    </tr>\n",
       "    <tr>\n",
       "      <th>14</th>\n",
       "      <td>55089</td>\n",
       "      <td>120563</td>\n",
       "      <td>175652</td>\n",
       "    </tr>\n",
       "    <tr>\n",
       "      <th>15</th>\n",
       "      <td>54606</td>\n",
       "      <td>128543</td>\n",
       "      <td>183149</td>\n",
       "    </tr>\n",
       "    <tr>\n",
       "      <th>16</th>\n",
       "      <td>53834</td>\n",
       "      <td>173914</td>\n",
       "      <td>227748</td>\n",
       "    </tr>\n",
       "    <tr>\n",
       "      <th>17</th>\n",
       "      <td>54220</td>\n",
       "      <td>282640</td>\n",
       "      <td>336860</td>\n",
       "    </tr>\n",
       "    <tr>\n",
       "      <th>18</th>\n",
       "      <td>44496</td>\n",
       "      <td>265276</td>\n",
       "      <td>309772</td>\n",
       "    </tr>\n",
       "    <tr>\n",
       "      <th>19</th>\n",
       "      <td>35505</td>\n",
       "      <td>191284</td>\n",
       "      <td>226789</td>\n",
       "    </tr>\n",
       "    <tr>\n",
       "      <th>20</th>\n",
       "      <td>26378</td>\n",
       "      <td>138172</td>\n",
       "      <td>164550</td>\n",
       "    </tr>\n",
       "    <tr>\n",
       "      <th>21</th>\n",
       "      <td>20570</td>\n",
       "      <td>104875</td>\n",
       "      <td>125445</td>\n",
       "    </tr>\n",
       "    <tr>\n",
       "      <th>22</th>\n",
       "      <td>16200</td>\n",
       "      <td>79412</td>\n",
       "      <td>95612</td>\n",
       "    </tr>\n",
       "    <tr>\n",
       "      <th>23</th>\n",
       "      <td>11065</td>\n",
       "      <td>52876</td>\n",
       "      <td>63941</td>\n",
       "    </tr>\n",
       "  </tbody>\n",
       "</table>\n",
       "</div>"
      ],
      "text/plain": [
       "      casual  registered  total_count\n",
       "hour                                 \n",
       "0       7375       31755        39130\n",
       "1       4709       19455        24164\n",
       "2       3412       12940        16352\n",
       "3       1893        6281         8174\n",
       "4        874        3554         4428\n",
       "5       1012       13249        14261\n",
       "6       3017       52115        55132\n",
       "7       8037      146134       154171\n",
       "8      15761      245240       261001\n",
       "9      22458      136980       159438\n",
       "10     33789       92468       126257\n",
       "11     43286      108034       151320\n",
       "12     49718      134696       184414\n",
       "13     52713      132206       184919\n",
       "14     55089      120563       175652\n",
       "15     54606      128543       183149\n",
       "16     53834      173914       227748\n",
       "17     54220      282640       336860\n",
       "18     44496      265276       309772\n",
       "19     35505      191284       226789\n",
       "20     26378      138172       164550\n",
       "21     20570      104875       125445\n",
       "22     16200       79412        95612\n",
       "23     11065       52876        63941"
      ]
     },
     "execution_count": 23,
     "metadata": {},
     "output_type": "execute_result"
    }
   ],
   "source": [
    "hour_df.groupby(by=[\"hour\"]).agg({\n",
    "    \"casual\": \"sum\",\n",
    "    \"registered\": \"sum\",\n",
    "    \"total_count\": \"sum\"\n",
    "})"
   ]
  },
  {
   "cell_type": "markdown",
   "metadata": {
    "id": "L7RLOgmfP_Of"
   },
   "source": [
    "Berdasarkan tabel diatas, **pengguna rental sepeda terbanyak berada di jam 8 pagi dan jam 5-6 malam**"
   ]
  },
  {
   "cell_type": "code",
   "execution_count": 24,
   "metadata": {
    "colab": {
     "base_uri": "https://localhost:8080/",
     "height": 0
    },
    "id": "ypst1R2ZMxTH",
    "outputId": "81f0108f-2c5d-463d-9159-8a923bb6131a"
   },
   "outputs": [
    {
     "name": "stderr",
     "output_type": "stream",
     "text": [
      "C:\\Users\\User PC\\AppData\\Local\\Temp\\ipykernel_27484\\3611268968.py:1: FutureWarning: The default of observed=False is deprecated and will be changed to True in a future version of pandas. Pass observed=False to retain current behavior or observed=True to adopt the future default and silence this warning.\n",
      "  hour_df.groupby(by=[\"weather\"]).agg({\n"
     ]
    },
    {
     "data": {
      "text/html": [
       "<div>\n",
       "<style scoped>\n",
       "    .dataframe tbody tr th:only-of-type {\n",
       "        vertical-align: middle;\n",
       "    }\n",
       "\n",
       "    .dataframe tbody tr th {\n",
       "        vertical-align: top;\n",
       "    }\n",
       "\n",
       "    .dataframe thead th {\n",
       "        text-align: right;\n",
       "    }\n",
       "</style>\n",
       "<table border=\"1\" class=\"dataframe\">\n",
       "  <thead>\n",
       "    <tr style=\"text-align: right;\">\n",
       "      <th></th>\n",
       "      <th>casual</th>\n",
       "      <th>registered</th>\n",
       "      <th>total_count</th>\n",
       "    </tr>\n",
       "    <tr>\n",
       "      <th>weather</th>\n",
       "      <th></th>\n",
       "      <th></th>\n",
       "      <th></th>\n",
       "    </tr>\n",
       "  </thead>\n",
       "  <tbody>\n",
       "    <tr>\n",
       "      <th>Clear</th>\n",
       "      <td>462745</td>\n",
       "      <td>1875428</td>\n",
       "      <td>2338173</td>\n",
       "    </tr>\n",
       "    <tr>\n",
       "      <th>Misty</th>\n",
       "      <td>134481</td>\n",
       "      <td>661471</td>\n",
       "      <td>795952</td>\n",
       "    </tr>\n",
       "    <tr>\n",
       "      <th>Light_RainSnow</th>\n",
       "      <td>22783</td>\n",
       "      <td>135548</td>\n",
       "      <td>158331</td>\n",
       "    </tr>\n",
       "    <tr>\n",
       "      <th>Heavy_RainSnow</th>\n",
       "      <td>8</td>\n",
       "      <td>215</td>\n",
       "      <td>223</td>\n",
       "    </tr>\n",
       "  </tbody>\n",
       "</table>\n",
       "</div>"
      ],
      "text/plain": [
       "                casual  registered  total_count\n",
       "weather                                        \n",
       "Clear           462745     1875428      2338173\n",
       "Misty           134481      661471       795952\n",
       "Light_RainSnow   22783      135548       158331\n",
       "Heavy_RainSnow       8         215          223"
      ]
     },
     "execution_count": 24,
     "metadata": {},
     "output_type": "execute_result"
    }
   ],
   "source": [
    "hour_df.groupby(by=[\"weather\"]).agg({\n",
    "    \"casual\": \"sum\",\n",
    "    \"registered\": \"sum\",\n",
    "    \"total_count\": \"sum\"\n",
    "})"
   ]
  },
  {
   "cell_type": "markdown",
   "metadata": {
    "id": "V8uHC3IDQzYP"
   },
   "source": [
    "Berdasarkan tabel diatas, **pengguna lebih memilih untuk bersepeda pada saat cuaca: Clear, Few clouds, Partly cloudy, Partly cloudy**\n",
    "\n",
    "dan **sangat sedikit sekali pengguna pada saat cuaca : Heavy Rain + Ice Pallets + Thunderstorm + Mist, Snow + Fog**"
   ]
  },
  {
   "cell_type": "markdown",
   "metadata": {
    "id": "MW7WF2kr8DC1",
    "jp-MarkdownHeadingCollapsed": true
   },
   "source": [
    "### Explore Data day_df\n"
   ]
  },
  {
   "cell_type": "code",
   "execution_count": 25,
   "metadata": {
    "colab": {
     "base_uri": "https://localhost:8080/",
     "height": 0
    },
    "id": "igf4GGlEFyNP",
    "outputId": "548936dc-44fc-4922-eb3c-ee4838e92ff4"
   },
   "outputs": [
    {
     "data": {
      "text/html": [
       "<div>\n",
       "<style scoped>\n",
       "    .dataframe tbody tr th:only-of-type {\n",
       "        vertical-align: middle;\n",
       "    }\n",
       "\n",
       "    .dataframe tbody tr th {\n",
       "        vertical-align: top;\n",
       "    }\n",
       "\n",
       "    .dataframe thead th {\n",
       "        text-align: right;\n",
       "    }\n",
       "</style>\n",
       "<table border=\"1\" class=\"dataframe\">\n",
       "  <thead>\n",
       "    <tr style=\"text-align: right;\">\n",
       "      <th></th>\n",
       "      <th>date</th>\n",
       "      <th>temperature</th>\n",
       "      <th>humidity</th>\n",
       "      <th>windspeed</th>\n",
       "      <th>casual</th>\n",
       "      <th>registered</th>\n",
       "      <th>total_count</th>\n",
       "    </tr>\n",
       "  </thead>\n",
       "  <tbody>\n",
       "    <tr>\n",
       "      <th>count</th>\n",
       "      <td>731</td>\n",
       "      <td>731.000000</td>\n",
       "      <td>731.000000</td>\n",
       "      <td>731.000000</td>\n",
       "      <td>731.000000</td>\n",
       "      <td>731.000000</td>\n",
       "      <td>731.000000</td>\n",
       "    </tr>\n",
       "    <tr>\n",
       "      <th>mean</th>\n",
       "      <td>2012-01-01 00:00:00</td>\n",
       "      <td>20.310776</td>\n",
       "      <td>62.789406</td>\n",
       "      <td>12.762576</td>\n",
       "      <td>848.176471</td>\n",
       "      <td>3656.172367</td>\n",
       "      <td>4504.348837</td>\n",
       "    </tr>\n",
       "    <tr>\n",
       "      <th>min</th>\n",
       "      <td>2011-01-01 00:00:00</td>\n",
       "      <td>2.424346</td>\n",
       "      <td>0.000000</td>\n",
       "      <td>1.500244</td>\n",
       "      <td>2.000000</td>\n",
       "      <td>20.000000</td>\n",
       "      <td>22.000000</td>\n",
       "    </tr>\n",
       "    <tr>\n",
       "      <th>25%</th>\n",
       "      <td>2011-07-02 12:00:00</td>\n",
       "      <td>13.820424</td>\n",
       "      <td>52.000000</td>\n",
       "      <td>9.041650</td>\n",
       "      <td>315.500000</td>\n",
       "      <td>2497.000000</td>\n",
       "      <td>3152.000000</td>\n",
       "    </tr>\n",
       "    <tr>\n",
       "      <th>50%</th>\n",
       "      <td>2012-01-01 00:00:00</td>\n",
       "      <td>20.431653</td>\n",
       "      <td>62.666700</td>\n",
       "      <td>12.125325</td>\n",
       "      <td>713.000000</td>\n",
       "      <td>3662.000000</td>\n",
       "      <td>4548.000000</td>\n",
       "    </tr>\n",
       "    <tr>\n",
       "      <th>75%</th>\n",
       "      <td>2012-07-01 12:00:00</td>\n",
       "      <td>26.872076</td>\n",
       "      <td>73.020850</td>\n",
       "      <td>15.625371</td>\n",
       "      <td>1096.000000</td>\n",
       "      <td>4776.500000</td>\n",
       "      <td>5956.000000</td>\n",
       "    </tr>\n",
       "    <tr>\n",
       "      <th>max</th>\n",
       "      <td>2012-12-31 00:00:00</td>\n",
       "      <td>35.328347</td>\n",
       "      <td>97.250000</td>\n",
       "      <td>34.000021</td>\n",
       "      <td>3410.000000</td>\n",
       "      <td>6946.000000</td>\n",
       "      <td>8714.000000</td>\n",
       "    </tr>\n",
       "    <tr>\n",
       "      <th>std</th>\n",
       "      <td>NaN</td>\n",
       "      <td>7.505091</td>\n",
       "      <td>14.242910</td>\n",
       "      <td>5.192357</td>\n",
       "      <td>686.622488</td>\n",
       "      <td>1560.256377</td>\n",
       "      <td>1937.211452</td>\n",
       "    </tr>\n",
       "  </tbody>\n",
       "</table>\n",
       "</div>"
      ],
      "text/plain": [
       "                      date  temperature    humidity   windspeed       casual  \\\n",
       "count                  731   731.000000  731.000000  731.000000   731.000000   \n",
       "mean   2012-01-01 00:00:00    20.310776   62.789406   12.762576   848.176471   \n",
       "min    2011-01-01 00:00:00     2.424346    0.000000    1.500244     2.000000   \n",
       "25%    2011-07-02 12:00:00    13.820424   52.000000    9.041650   315.500000   \n",
       "50%    2012-01-01 00:00:00    20.431653   62.666700   12.125325   713.000000   \n",
       "75%    2012-07-01 12:00:00    26.872076   73.020850   15.625371  1096.000000   \n",
       "max    2012-12-31 00:00:00    35.328347   97.250000   34.000021  3410.000000   \n",
       "std                    NaN     7.505091   14.242910    5.192357   686.622488   \n",
       "\n",
       "        registered  total_count  \n",
       "count   731.000000   731.000000  \n",
       "mean   3656.172367  4504.348837  \n",
       "min      20.000000    22.000000  \n",
       "25%    2497.000000  3152.000000  \n",
       "50%    3662.000000  4548.000000  \n",
       "75%    4776.500000  5956.000000  \n",
       "max    6946.000000  8714.000000  \n",
       "std    1560.256377  1937.211452  "
      ]
     },
     "execution_count": 25,
     "metadata": {},
     "output_type": "execute_result"
    }
   ],
   "source": [
    "day_df.describe()"
   ]
  },
  {
   "cell_type": "markdown",
   "metadata": {
    "id": "maB0fzShGCoQ"
   },
   "source": [
    "Berdasarkan table diatas, **per harinya**, **jumlah pengguna dari rental sepeda dari kisaran 22 hingga 8714** orang dengan **rata-rata jumlah pengguna 4504 orang** dengan **standar deviasinya 1937.21**\n",
    "\n"
   ]
  },
  {
   "cell_type": "code",
   "execution_count": 26,
   "metadata": {
    "colab": {
     "base_uri": "https://localhost:8080/",
     "height": 0
    },
    "id": "Qt8Q6KvxEskT",
    "outputId": "1e42063c-bc47-4292-9dea-69b26253fca6"
   },
   "outputs": [
    {
     "name": "stderr",
     "output_type": "stream",
     "text": [
      "C:\\Users\\User PC\\AppData\\Local\\Temp\\ipykernel_27484\\360472028.py:1: FutureWarning: The default of observed=False is deprecated and will be changed to True in a future version of pandas. Pass observed=False to retain current behavior or observed=True to adopt the future default and silence this warning.\n",
      "  day_df.groupby(by=[\"year\", \"month\"]).agg({\n"
     ]
    },
    {
     "data": {
      "text/html": [
       "<div>\n",
       "<style scoped>\n",
       "    .dataframe tbody tr th:only-of-type {\n",
       "        vertical-align: middle;\n",
       "    }\n",
       "\n",
       "    .dataframe tbody tr th {\n",
       "        vertical-align: top;\n",
       "    }\n",
       "\n",
       "    .dataframe thead th {\n",
       "        text-align: right;\n",
       "    }\n",
       "</style>\n",
       "<table border=\"1\" class=\"dataframe\">\n",
       "  <thead>\n",
       "    <tr style=\"text-align: right;\">\n",
       "      <th></th>\n",
       "      <th></th>\n",
       "      <th>casual</th>\n",
       "      <th>registered</th>\n",
       "      <th>total_count</th>\n",
       "    </tr>\n",
       "    <tr>\n",
       "      <th>year</th>\n",
       "      <th>month</th>\n",
       "      <th></th>\n",
       "      <th></th>\n",
       "      <th></th>\n",
       "    </tr>\n",
       "  </thead>\n",
       "  <tbody>\n",
       "    <tr>\n",
       "      <th rowspan=\"12\" valign=\"top\">2011</th>\n",
       "      <th>Jan</th>\n",
       "      <td>3073</td>\n",
       "      <td>35116</td>\n",
       "      <td>38189</td>\n",
       "    </tr>\n",
       "    <tr>\n",
       "      <th>Feb</th>\n",
       "      <td>6242</td>\n",
       "      <td>41973</td>\n",
       "      <td>48215</td>\n",
       "    </tr>\n",
       "    <tr>\n",
       "      <th>Mar</th>\n",
       "      <td>12826</td>\n",
       "      <td>51219</td>\n",
       "      <td>64045</td>\n",
       "    </tr>\n",
       "    <tr>\n",
       "      <th>Apr</th>\n",
       "      <td>22346</td>\n",
       "      <td>72524</td>\n",
       "      <td>94870</td>\n",
       "    </tr>\n",
       "    <tr>\n",
       "      <th>May</th>\n",
       "      <td>31050</td>\n",
       "      <td>104771</td>\n",
       "      <td>135821</td>\n",
       "    </tr>\n",
       "    <tr>\n",
       "      <th>Jun</th>\n",
       "      <td>30612</td>\n",
       "      <td>112900</td>\n",
       "      <td>143512</td>\n",
       "    </tr>\n",
       "    <tr>\n",
       "      <th>Jul</th>\n",
       "      <td>36452</td>\n",
       "      <td>104889</td>\n",
       "      <td>141341</td>\n",
       "    </tr>\n",
       "    <tr>\n",
       "      <th>Aug</th>\n",
       "      <td>28842</td>\n",
       "      <td>107849</td>\n",
       "      <td>136691</td>\n",
       "    </tr>\n",
       "    <tr>\n",
       "      <th>Sep</th>\n",
       "      <td>26545</td>\n",
       "      <td>100873</td>\n",
       "      <td>127418</td>\n",
       "    </tr>\n",
       "    <tr>\n",
       "      <th>Oct</th>\n",
       "      <td>25222</td>\n",
       "      <td>98289</td>\n",
       "      <td>123511</td>\n",
       "    </tr>\n",
       "    <tr>\n",
       "      <th>Nov</th>\n",
       "      <td>15594</td>\n",
       "      <td>86573</td>\n",
       "      <td>102167</td>\n",
       "    </tr>\n",
       "    <tr>\n",
       "      <th>Dec</th>\n",
       "      <td>8448</td>\n",
       "      <td>78875</td>\n",
       "      <td>87323</td>\n",
       "    </tr>\n",
       "    <tr>\n",
       "      <th rowspan=\"12\" valign=\"top\">2012</th>\n",
       "      <th>Jan</th>\n",
       "      <td>8969</td>\n",
       "      <td>87775</td>\n",
       "      <td>96744</td>\n",
       "    </tr>\n",
       "    <tr>\n",
       "      <th>Feb</th>\n",
       "      <td>8721</td>\n",
       "      <td>94416</td>\n",
       "      <td>103137</td>\n",
       "    </tr>\n",
       "    <tr>\n",
       "      <th>Mar</th>\n",
       "      <td>31618</td>\n",
       "      <td>133257</td>\n",
       "      <td>164875</td>\n",
       "    </tr>\n",
       "    <tr>\n",
       "      <th>Apr</th>\n",
       "      <td>38456</td>\n",
       "      <td>135768</td>\n",
       "      <td>174224</td>\n",
       "    </tr>\n",
       "    <tr>\n",
       "      <th>May</th>\n",
       "      <td>44235</td>\n",
       "      <td>151630</td>\n",
       "      <td>195865</td>\n",
       "    </tr>\n",
       "    <tr>\n",
       "      <th>Jun</th>\n",
       "      <td>43294</td>\n",
       "      <td>159536</td>\n",
       "      <td>202830</td>\n",
       "    </tr>\n",
       "    <tr>\n",
       "      <th>Jul</th>\n",
       "      <td>41705</td>\n",
       "      <td>161902</td>\n",
       "      <td>203607</td>\n",
       "    </tr>\n",
       "    <tr>\n",
       "      <th>Aug</th>\n",
       "      <td>43197</td>\n",
       "      <td>171306</td>\n",
       "      <td>214503</td>\n",
       "    </tr>\n",
       "    <tr>\n",
       "      <th>Sep</th>\n",
       "      <td>43778</td>\n",
       "      <td>174795</td>\n",
       "      <td>218573</td>\n",
       "    </tr>\n",
       "    <tr>\n",
       "      <th>Oct</th>\n",
       "      <td>34538</td>\n",
       "      <td>164303</td>\n",
       "      <td>198841</td>\n",
       "    </tr>\n",
       "    <tr>\n",
       "      <th>Nov</th>\n",
       "      <td>21009</td>\n",
       "      <td>131655</td>\n",
       "      <td>152664</td>\n",
       "    </tr>\n",
       "    <tr>\n",
       "      <th>Dec</th>\n",
       "      <td>13245</td>\n",
       "      <td>110468</td>\n",
       "      <td>123713</td>\n",
       "    </tr>\n",
       "  </tbody>\n",
       "</table>\n",
       "</div>"
      ],
      "text/plain": [
       "            casual  registered  total_count\n",
       "year month                                 \n",
       "2011 Jan      3073       35116        38189\n",
       "     Feb      6242       41973        48215\n",
       "     Mar     12826       51219        64045\n",
       "     Apr     22346       72524        94870\n",
       "     May     31050      104771       135821\n",
       "     Jun     30612      112900       143512\n",
       "     Jul     36452      104889       141341\n",
       "     Aug     28842      107849       136691\n",
       "     Sep     26545      100873       127418\n",
       "     Oct     25222       98289       123511\n",
       "     Nov     15594       86573       102167\n",
       "     Dec      8448       78875        87323\n",
       "2012 Jan      8969       87775        96744\n",
       "     Feb      8721       94416       103137\n",
       "     Mar     31618      133257       164875\n",
       "     Apr     38456      135768       174224\n",
       "     May     44235      151630       195865\n",
       "     Jun     43294      159536       202830\n",
       "     Jul     41705      161902       203607\n",
       "     Aug     43197      171306       214503\n",
       "     Sep     43778      174795       218573\n",
       "     Oct     34538      164303       198841\n",
       "     Nov     21009      131655       152664\n",
       "     Dec     13245      110468       123713"
      ]
     },
     "execution_count": 26,
     "metadata": {},
     "output_type": "execute_result"
    }
   ],
   "source": [
    "day_df.groupby(by=[\"year\", \"month\"]).agg({\n",
    "    \"casual\": \"sum\",\n",
    "    \"registered\": \"sum\",\n",
    "    \"total_count\": \"sum\"\n",
    "})"
   ]
  },
  {
   "cell_type": "markdown",
   "metadata": {
    "id": "ZH6SP_X0LxTn"
   },
   "source": [
    "Berdasarkan table diatas, bisa dikatakan bahwa **untuk setiap tahunnya** pada **periode Bulan Januari sampai Februari** adalah **waktu dimana jumlah pengguna paling sedikit dibanding bulan lain**"
   ]
  },
  {
   "cell_type": "code",
   "execution_count": 27,
   "metadata": {
    "colab": {
     "base_uri": "https://localhost:8080/",
     "height": 0
    },
    "id": "ogNySN1OSDrV",
    "outputId": "17db9d44-a50b-4c56-9e0a-ff10f35cdc3a"
   },
   "outputs": [
    {
     "name": "stderr",
     "output_type": "stream",
     "text": [
      "C:\\Users\\User PC\\AppData\\Local\\Temp\\ipykernel_27484\\574440511.py:1: FutureWarning: The default of observed=False is deprecated and will be changed to True in a future version of pandas. Pass observed=False to retain current behavior or observed=True to adopt the future default and silence this warning.\n",
      "  day_df.groupby(by=[\"weather\"]).agg({\n"
     ]
    },
    {
     "data": {
      "text/html": [
       "<div>\n",
       "<style scoped>\n",
       "    .dataframe tbody tr th:only-of-type {\n",
       "        vertical-align: middle;\n",
       "    }\n",
       "\n",
       "    .dataframe tbody tr th {\n",
       "        vertical-align: top;\n",
       "    }\n",
       "\n",
       "    .dataframe thead th {\n",
       "        text-align: right;\n",
       "    }\n",
       "</style>\n",
       "<table border=\"1\" class=\"dataframe\">\n",
       "  <thead>\n",
       "    <tr style=\"text-align: right;\">\n",
       "      <th></th>\n",
       "      <th>casual</th>\n",
       "      <th>registered</th>\n",
       "      <th>total_count</th>\n",
       "    </tr>\n",
       "    <tr>\n",
       "      <th>weather</th>\n",
       "      <th></th>\n",
       "      <th></th>\n",
       "      <th></th>\n",
       "    </tr>\n",
       "  </thead>\n",
       "  <tbody>\n",
       "    <tr>\n",
       "      <th>Clear</th>\n",
       "      <td>446346</td>\n",
       "      <td>1811606</td>\n",
       "      <td>2257952</td>\n",
       "    </tr>\n",
       "    <tr>\n",
       "      <th>Misty</th>\n",
       "      <td>169776</td>\n",
       "      <td>827082</td>\n",
       "      <td>996858</td>\n",
       "    </tr>\n",
       "    <tr>\n",
       "      <th>Light_RainSnow</th>\n",
       "      <td>3895</td>\n",
       "      <td>33974</td>\n",
       "      <td>37869</td>\n",
       "    </tr>\n",
       "  </tbody>\n",
       "</table>\n",
       "</div>"
      ],
      "text/plain": [
       "                casual  registered  total_count\n",
       "weather                                        \n",
       "Clear           446346     1811606      2257952\n",
       "Misty           169776      827082       996858\n",
       "Light_RainSnow    3895       33974        37869"
      ]
     },
     "execution_count": 27,
     "metadata": {},
     "output_type": "execute_result"
    }
   ],
   "source": [
    "day_df.groupby(by=[\"weather\"]).agg({\n",
    "    \"casual\": \"sum\",\n",
    "    \"registered\": \"sum\",\n",
    "    \"total_count\": \"sum\"\n",
    "})"
   ]
  },
  {
   "cell_type": "markdown",
   "metadata": {
    "id": "D_OZuoIzSZEd"
   },
   "source": [
    "Berdasarkan tabel diatas, seperti sebelumnya pada tabel dari data \"hour_df\", untuk data dari \"day_df\" juga memiliki **pengguna yang lebih memilih untuk bersepeda pada saat cuaca : Clear, Few clouds, Partly cloudy, Partly cloudy**"
   ]
  },
  {
   "cell_type": "code",
   "execution_count": 28,
   "metadata": {
    "colab": {
     "base_uri": "https://localhost:8080/",
     "height": 0
    },
    "id": "QY5iAF4uWG7U",
    "outputId": "90a5603d-e88d-4a77-ca57-e8f4eae567fd"
   },
   "outputs": [
    {
     "name": "stderr",
     "output_type": "stream",
     "text": [
      "C:\\Users\\User PC\\AppData\\Local\\Temp\\ipykernel_27484\\4106936463.py:1: FutureWarning: The default of observed=False is deprecated and will be changed to True in a future version of pandas. Pass observed=False to retain current behavior or observed=True to adopt the future default and silence this warning.\n",
      "  day_df.groupby(by=[\"season\"]).agg({\n"
     ]
    },
    {
     "data": {
      "text/html": [
       "<div>\n",
       "<style scoped>\n",
       "    .dataframe tbody tr th:only-of-type {\n",
       "        vertical-align: middle;\n",
       "    }\n",
       "\n",
       "    .dataframe tbody tr th {\n",
       "        vertical-align: top;\n",
       "    }\n",
       "\n",
       "    .dataframe thead th {\n",
       "        text-align: right;\n",
       "    }\n",
       "</style>\n",
       "<table border=\"1\" class=\"dataframe\">\n",
       "  <thead>\n",
       "    <tr style=\"text-align: right;\">\n",
       "      <th></th>\n",
       "      <th>casual</th>\n",
       "      <th>registered</th>\n",
       "      <th>total_count</th>\n",
       "    </tr>\n",
       "    <tr>\n",
       "      <th>season</th>\n",
       "      <th></th>\n",
       "      <th></th>\n",
       "      <th></th>\n",
       "    </tr>\n",
       "  </thead>\n",
       "  <tbody>\n",
       "    <tr>\n",
       "      <th>Winter</th>\n",
       "      <td>60622</td>\n",
       "      <td>410726</td>\n",
       "      <td>471348</td>\n",
       "    </tr>\n",
       "    <tr>\n",
       "      <th>Spring</th>\n",
       "      <td>203522</td>\n",
       "      <td>715067</td>\n",
       "      <td>918589</td>\n",
       "    </tr>\n",
       "    <tr>\n",
       "      <th>Summer</th>\n",
       "      <td>226091</td>\n",
       "      <td>835038</td>\n",
       "      <td>1061129</td>\n",
       "    </tr>\n",
       "    <tr>\n",
       "      <th>Fall</th>\n",
       "      <td>129782</td>\n",
       "      <td>711831</td>\n",
       "      <td>841613</td>\n",
       "    </tr>\n",
       "  </tbody>\n",
       "</table>\n",
       "</div>"
      ],
      "text/plain": [
       "        casual  registered  total_count\n",
       "season                                 \n",
       "Winter   60622      410726       471348\n",
       "Spring  203522      715067       918589\n",
       "Summer  226091      835038      1061129\n",
       "Fall    129782      711831       841613"
      ]
     },
     "execution_count": 28,
     "metadata": {},
     "output_type": "execute_result"
    }
   ],
   "source": [
    "day_df.groupby(by=[\"season\"]).agg({\n",
    "    \"casual\": \"sum\",\n",
    "    \"registered\": \"sum\",\n",
    "    \"total_count\": \"sum\"\n",
    "})"
   ]
  },
  {
   "cell_type": "markdown",
   "metadata": {
    "id": "xC45ijxTWbC2"
   },
   "source": [
    "Berdasarkan tabel diatas, untuk setiap tahunnya, **musim yang memiliki jumlah pengguna terbanyak adalah gugur(fall)**\n",
    "\n",
    "dan terjadi **penurunan jumlah pengguna yang signifikan pada musim semi(springer)**"
   ]
  },
  {
   "cell_type": "markdown",
   "metadata": {
    "id": "zsyZjqak8DC2"
   },
   "source": [
    "# Visualization & Explanatory Analysis"
   ]
  },
  {
   "cell_type": "markdown",
   "metadata": {
    "id": "HZxOiQ6n8DC2"
   },
   "source": [
    "### Pertanyaan 1: Bagaimana perkembangan dari jumlah pengguna tiap tahun, apakah ada peningkatan atau penurunan?"
   ]
  },
  {
   "cell_type": "markdown",
   "metadata": {
    "id": "EwX0xnSfyL4Q"
   },
   "source": [
    "Pertama kita membuat **data frame** untuk **tahun 2011** berdasarkan data pada **data day_df**"
   ]
  },
  {
   "cell_type": "code",
   "execution_count": 29,
   "metadata": {
    "id": "1swJUdAD8DC2"
   },
   "outputs": [],
   "source": [
    "day_2011_df = day_df.loc[ (day_df['date'].dt.year == 2011) ].copy()"
   ]
  },
  {
   "cell_type": "markdown",
   "metadata": {
    "id": "YRzM-ITByngK"
   },
   "source": [
    "Kode dibawah membuat data dari **jumlah total pengguna** berdasarkan **kolom 'date'** yang telah **di-convert** untuk menjadi **bulan** saja"
   ]
  },
  {
   "cell_type": "code",
   "execution_count": 30,
   "metadata": {
    "id": "CP1iU47cK8RP"
   },
   "outputs": [],
   "source": [
    "monthly_2011_df = day_2011_df.resample(rule='M', on='date').agg({\n",
    "    \"casual\": \"sum\",\n",
    "    \"registered\": \"sum\",\n",
    "    \"total_count\": \"sum\"\n",
    "})\n",
    "monthly_2011_df.index = monthly_2011_df.index.strftime('%B')\n",
    "monthly_2011_df = monthly_2011_df.reset_index()"
   ]
  },
  {
   "cell_type": "markdown",
   "metadata": {
    "id": "NH0AAIWIzGMG"
   },
   "source": [
    "Kode dibawah membuat visual datanya menggunakan **Line Chart**"
   ]
  },
  {
   "cell_type": "code",
   "execution_count": 31,
   "metadata": {
    "colab": {
     "base_uri": "https://localhost:8080/",
     "height": 0
    },
    "id": "CsQCAeXrOytg",
    "outputId": "944fd929-3c57-4934-f341-dddeb1584949"
   },
   "outputs": [
    {
     "data": {
      "image/png": "[encoded data removed]",
      "text/plain": [
       "<Figure size 1500x500 with 1 Axes>"
      ]
     },
     "metadata": {},
     "output_type": "display_data"
    }
   ],
   "source": [
    "plt.figure(figsize=(15, 5))\n",
    "plt.plot(monthly_2011_df[\"date\"], monthly_2011_df[\"total_count\"], marker='o', linewidth=2, color=\"#72BCD4\")\n",
    "plt.title(\"Sum of Rental Bikes per Month (2011)\", loc=\"center\", fontsize=20)\n",
    "plt.xticks(fontsize=10)\n",
    "plt.yticks(fontsize=10)\n",
    "plt.ylim(ymin=0)\n",
    "plt.show()"
   ]
  },
  {
   "cell_type": "markdown",
   "metadata": {
    "id": "vC9DN65DzXdN"
   },
   "source": [
    "Kedua kita membuat **data frame** untuk **tahun 2012** berdasarkan data pada **data day_df**"
   ]
  },
  {
   "cell_type": "code",
   "execution_count": 32,
   "metadata": {
    "id": "6oRPsQ-5Obtt"
   },
   "outputs": [],
   "source": [
    "day_2012_df = day_df.loc[ (day_df['date'].dt.year == 2012) ].copy()\n",
    "day_2012_df = day_2012_df.reset_index()"
   ]
  },
  {
   "cell_type": "markdown",
   "metadata": {
    "id": "RR3K269vzeKH"
   },
   "source": [
    "Kode dibawah membuat data dari **jumlah total pengguna** berdasarkan **kolom 'date'** yang telah **di-convert** untuk menjadi **bulan** saja"
   ]
  },
  {
   "cell_type": "code",
   "execution_count": 33,
   "metadata": {
    "id": "abtje-l9OUg5"
   },
   "outputs": [],
   "source": [
    "monthly_2012_df = day_2012_df.resample(rule='M', on='date').agg({\n",
    "    \"casual\": \"sum\",\n",
    "    \"registered\": \"sum\",\n",
    "    \"total_count\": \"sum\"\n",
    "})\n",
    "monthly_2012_df.index = monthly_2012_df.index.strftime('%B')\n",
    "monthly_2012_df = monthly_2012_df.reset_index()\n",
    "# monthly_2012_df"
   ]
  },
  {
   "cell_type": "markdown",
   "metadata": {
    "id": "e1R3TnP9zn7T"
   },
   "source": [
    "Kode dibawah membuat visual datanya menggunakan **Line Chart**"
   ]
  },
  {
   "cell_type": "code",
   "execution_count": 34,
   "metadata": {
    "colab": {
     "base_uri": "https://localhost:8080/",
     "height": 0
    },
    "id": "UF1vd3TFPQj-",
    "outputId": "b6596670-6946-412a-edca-10923b228810"
   },
   "outputs": [
    {
     "data": {
      "image/png": "[encoded data removed]",
      "text/plain": [
       "<Figure size 1500x500 with 1 Axes>"
      ]
     },
     "metadata": {},
     "output_type": "display_data"
    }
   ],
   "source": [
    "plt.figure(figsize=(15, 5))\n",
    "plt.plot(monthly_2012_df[\"date\"], monthly_2012_df[\"total_count\"], marker='o', linewidth=2, color=\"#72BCD4\")\n",
    "plt.title(\"Sum of Rental Bikes per Month (2012)\", loc=\"center\", fontsize=20)\n",
    "plt.xticks(fontsize=10)\n",
    "plt.yticks(fontsize=10)\n",
    "plt.ylim(ymin=0)\n",
    "plt.show()"
   ]
  },
  {
   "cell_type": "markdown",
   "metadata": {
    "id": "DgHI7CiU8DC2"
   },
   "source": [
    "### Pertanyaan 2: Faktor apa yang mempengaruhi jumlah pengguna?"
   ]
  },
  {
   "cell_type": "markdown",
   "metadata": {
    "id": "gXWG87AscDcu"
   },
   "source": [
    "**1. Pengaruh Jam pada total pengguna**"
   ]
  },
  {
   "cell_type": "markdown",
   "metadata": {
    "id": "eJ95BVXQutPU"
   },
   "source": [
    "Kode dibawah membuat data dari **jumlah total pengguna** berdasarkan **kolom 'hour'** pada **data hour_df**"
   ]
  },
  {
   "cell_type": "code",
   "execution_count": 35,
   "metadata": {
    "id": "NYYaVG8ez-_V"
   },
   "outputs": [],
   "source": [
    "hour_count_df = hour_df.groupby(by=\"hour\").agg({\n",
    "    \"casual\": \"sum\",\n",
    "    \"registered\": \"sum\",\n",
    "    \"total_count\": \"sum\"\n",
    "})\n",
    "hour_count_df = hour_count_df.reset_index()"
   ]
  },
  {
   "cell_type": "markdown",
   "metadata": {
    "id": "BZ-FXkHC0OSM"
   },
   "source": [
    "Kode dibawah membuat visual datanya menggunakan **Bar Chart**"
   ]
  },
  {
   "cell_type": "code",
   "execution_count": 36,
   "metadata": {
    "colab": {
     "base_uri": "https://localhost:8080/",
     "height": 487
    },
    "id": "Go0lCsvO8DC2",
    "outputId": "3b4cadce-bdc5-4911-d6d6-cb3897057547"
   },
   "outputs": [
    {
     "data": {
      "image/png": "[encoded data removed]",
      "text/plain": [
       "<Figure size 1500x500 with 1 Axes>"
      ]
     },
     "metadata": {},
     "output_type": "display_data"
    }
   ],
   "source": [
    "fig = plt.figure(figsize = (15, 5))\n",
    "\n",
    "# creating the bar plot\n",
    "plt.bar(hour_count_df['hour'], hour_count_df['total_count'], color ='maroon',\n",
    "        width = 0.8)\n",
    "plt.xticks(hour_count_df['hour'])\n",
    "plt.xlabel(\"Hour\")\n",
    "plt.title(\"Sum of Rental Bikes per Hour\")\n",
    "plt.show()"
   ]
  },
  {
   "cell_type": "markdown",
   "metadata": {
    "id": "pRHb1zmbcJzA"
   },
   "source": [
    "**2. Pengaruh Seasons (Musim)**"
   ]
  },
  {
   "cell_type": "markdown",
   "metadata": {
    "id": "yvyUWOmhvPM_"
   },
   "source": [
    "Kode dibawah membuat data dari **jumlah total pengguna** berdasarkan **kolom 'season'** pada **data day_df**"
   ]
  },
  {
   "cell_type": "code",
   "execution_count": 37,
   "metadata": {
    "id": "ZF_Rp_Vb0elI"
   },
   "outputs": [
    {
     "name": "stderr",
     "output_type": "stream",
     "text": [
      "C:\\Users\\User PC\\AppData\\Local\\Temp\\ipykernel_27484\\812860393.py:1: FutureWarning: The default of observed=False is deprecated and will be changed to True in a future version of pandas. Pass observed=False to retain current behavior or observed=True to adopt the future default and silence this warning.\n",
      "  season_df = day_df.groupby(by=[\"season\"]).agg({\n"
     ]
    }
   ],
   "source": [
    "season_df = day_df.groupby(by=[\"season\"]).agg({\n",
    "    \"casual\": \"sum\",\n",
    "    \"registered\": \"sum\",\n",
    "    \"total_count\": \"sum\"\n",
    "})\n",
    "season_df = season_df.reset_index()\n",
    "# season_df"
   ]
  },
  {
   "cell_type": "markdown",
   "metadata": {
    "id": "fr9j2IbQ0jtZ"
   },
   "source": [
    "Kode dibawah membuat visual datanya menggunakan **Bar Chart**"
   ]
  },
  {
   "cell_type": "code",
   "execution_count": 38,
   "metadata": {
    "colab": {
     "base_uri": "https://localhost:8080/",
     "height": 487
    },
    "id": "YdzBtwjvW6NQ",
    "outputId": "4be6d4dc-1b37-4756-e982-ced3f5627830"
   },
   "outputs": [
    {
     "data": {
      "image/png": "[encoded data removed]",
      "text/plain": [
       "<Figure size 1500x500 with 1 Axes>"
      ]
     },
     "metadata": {},
     "output_type": "display_data"
    }
   ],
   "source": [
    "fig = plt.figure(figsize = (15, 5))\n",
    "\n",
    "# creating the bar plot\n",
    "plt.bar(season_df['season'], season_df['total_count'], color ='maroon',\n",
    "        width = 0.8)\n",
    "plt.xticks(season_df['season'])\n",
    "plt.yticks(season_df['total_count'])\n",
    "plt.xlabel(\"Seasons (Musim)\")\n",
    "plt.title(\"Sum of Biker based on Seasons\")\n",
    "plt.show()"
   ]
  },
  {
   "cell_type": "markdown",
   "metadata": {
    "id": "rsXZrC5ucRen"
   },
   "source": [
    "**3. Pengaruh Weather (Cuaca)**"
   ]
  },
  {
   "cell_type": "markdown",
   "metadata": {
    "id": "z08fNH8SvYbQ"
   },
   "source": [
    "Kode dibawah membuat data dari **jumlah total pengguna** berdasarkan **kolom 'musim'** pada **data day_df**\n"
   ]
  },
  {
   "cell_type": "code",
   "execution_count": 39,
   "metadata": {
    "id": "IWUx2U-10qP1"
   },
   "outputs": [
    {
     "name": "stderr",
     "output_type": "stream",
     "text": [
      "C:\\Users\\User PC\\AppData\\Local\\Temp\\ipykernel_27484\\191673464.py:1: FutureWarning: The default of observed=False is deprecated and will be changed to True in a future version of pandas. Pass observed=False to retain current behavior or observed=True to adopt the future default and silence this warning.\n",
      "  weather_df = day_df.groupby(by=[\"weather\"]).agg({\n"
     ]
    }
   ],
   "source": [
    "weather_df = day_df.groupby(by=[\"weather\"]).agg({\n",
    "    \"casual\": \"sum\",\n",
    "    \"registered\": \"sum\",\n",
    "    \"total_count\": \"sum\"\n",
    "})\n",
    "weather_df = weather_df.reset_index()\n",
    "# weather_df"
   ]
  },
  {
   "cell_type": "markdown",
   "metadata": {
    "id": "opR6A5HB0saO"
   },
   "source": [
    "Kode dibawah membuat visual datanya menggunakan **Bar Chart**"
   ]
  },
  {
   "cell_type": "code",
   "execution_count": 40,
   "metadata": {
    "colab": {
     "base_uri": "https://localhost:8080/",
     "height": 487
    },
    "id": "pC8-Q5i0cVIM",
    "outputId": "6308bdaf-0c2f-453c-b22b-b3b1cc79a72b"
   },
   "outputs": [
    {
     "data": {
      "image/png": "[encoded data removed]",
      "text/plain": [
       "<Figure size 1500x500 with 1 Axes>"
      ]
     },
     "metadata": {},
     "output_type": "display_data"
    }
   ],
   "source": [
    "fig = plt.figure(figsize = (15, 5))\n",
    "\n",
    "# creating the bar plot\n",
    "plt.bar(weather_df['weather'], weather_df['total_count'], color ='maroon',\n",
    "        width = 0.8)\n",
    "plt.xticks(weather_df['weather'])\n",
    "plt.yticks(weather_df['total_count'])\n",
    "plt.xlabel(\"Weather (Cuaca)\")\n",
    "plt.title(\"Sum of Biker based on Weather\")\n",
    "plt.show()"
   ]
  },
  {
   "cell_type": "markdown",
   "metadata": {
    "id": "_WeHlCeX8DC2"
   },
   "source": [
    "# Conclusion"
   ]
  },
  {
   "cell_type": "markdown",
   "metadata": {
    "id": "Oy-IDR5Y8rTF",
    "jp-MarkdownHeadingCollapsed": true
   },
   "source": [
    "### 1. Bagaimana perkembangan dari jumlah pengguna tiap tahun, apakah ada peningkatan atau penurunan?"
   ]
  },
  {
   "cell_type": "markdown",
   "metadata": {
    "id": "ZTcyR48Y8DC2"
   },
   "source": [
    "Berdasarkan visual data, bisa dikatakan bahwa **dibandingkan tahun 2011, pada tahun 2012 mengalami kenaikan jumlah penguna Rental Bikes.**\n",
    "\n",
    "- Bisa dilihat bahwa **pada tahun 2011 jumlah pengguna Rental Bikes terendah berada di kisaran 40.000an orang. Sementara untuk tahun 2012, jumlah pengguna Rental Bikes berada di kisaran 100.000an orang.**\n",
    "\n",
    "- Bisa dilihat juga **pada tahun 2011 jumlah pengguna Rental Bikes tertinggi berada di kisaran 140.000an orang. Sementraa untuk tahun 2012, berada di kisaran 200.000 lebih orang**"
   ]
  },
  {
   "cell_type": "markdown",
   "metadata": {
    "id": "fMm8Pyxs83Rw",
    "jp-MarkdownHeadingCollapsed": true
   },
   "source": [
    "### 2. Faktor apa yang mempengaruhi jumlah pengguna?"
   ]
  },
  {
   "cell_type": "markdown",
   "metadata": {
    "id": "fMm8Pyxs83Rw"
   },
   "source": [
    "**Berikut beberapa faktor yang dapat memengaruhi jumlah pengguna :**"
   ]
  },
  {
   "cell_type": "markdown",
   "metadata": {
    "id": "l3X7_9yk9Lu0"
   },
   "source": [
    "**1. Jam**\n",
    "\n",
    "> Berdasarkan visual data, **Pada jam 8 Pagi dan kisaran waktu 5-6 Sore adalah waktu tertinggi** dimana biasanya para customer menggunakan **Rental Bikes**.\n",
    "\n",
    "> Dimana **pada kisaran 0-5 Pagi adalah waktu terendah**. Ini dikarenakan waktu tersebut adalah dimana **waktu tidur/istirahat**\n",
    "\n",
    "\n",
    "**2. Seasons (Musim)**\n",
    "\n",
    "> Berdasarkan visual data, **pada saat Summer (Panas) adalah musim tertinggi untuk jumlah pengguna Rental Bikes**. Namun untuk **musim Spring (Semi) dan Fall (Gugur), jumlah penggunanya tidak terlalu jauh dari jumlah pengguna pada Summer (Panas).**\n",
    "\n",
    "> Sementara untuk **Winter, memiliki jumlah pengguna yang sangat jauh dibandingkan dengan ketiga musim yang lain**. Hal ini bisa terjadi karena berhubungan dengan faktor selanjutnya.\n",
    "\n",
    "**3. Weather (Cuaca)**\n",
    "\n",
    "> Berdasarkan visual data, **mayoritas, orang-orang akan menggunakan Rental Bikes disaat cuaca Clear (Cerah).**\n",
    "\n",
    "> Bisa dilihat untuk cuaca yang lain, memiliki jumlah pengguna **Rental Bikes** yang sangat jauh **dibandingkan saat cuaca sedang Clear (Cerah)**.\n",
    "\n",
    "> Bahkan untuk **kategori cuaca Heavy Rainsnow sampai tidak ada sama sekali orang** yang menggunakan Rental Bikes.\n",
    "\n"
   ]
  }
 ],
 "metadata": {
  "colab": {
   "collapsed_sections": [
    "eE0raob58DC0",
    "H-z4QGlO8DC1",
    "sXU2GBYu8DC1",
    "a06BOHexSJCB",
    "oA3dAbWcSWDN",
    "QD-DWGicZwf8",
    "lT9fza8CZ2Dx",
    "eDPkMvfsLdTt",
    "MW7WF2kr8DC1",
    "HZxOiQ6n8DC2",
    "Oy-IDR5Y8rTF",
    "fMm8Pyxs83Rw"
   ],
   "provenance": []
  },
  "kernelspec": {
   "display_name": "Python 3 (ipykernel)",
   "language": "python",
   "name": "python3"
  },
  "language_info": {
   "codemirror_mode": {
    "name": "ipython",
    "version": 3
   },
   "file_extension": ".py",
   "mimetype": "text/x-python",
   "name": "python",
   "nbconvert_exporter": "python",
   "pygments_lexer": "ipython3",
   "version": "3.11.2"
  },
  "vscode": {
   "interpreter": {
    "hash": "972b3bf27e332e87b5379f2791f6ef9dfc79c71018c370b0d7423235e20fe4d7"
   }
  }
 },
 "nbformat": 4,
 "nbformat_minor": 4
}
